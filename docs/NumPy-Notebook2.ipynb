{
 "cells": [
  {
   "cell_type": "markdown",
   "id": "d16bcc6f-f94f-4623-a123-8c54e6f76b18",
   "metadata": {},
   "source": [
    "# Introduction to NumPy Pt 2"
   ]
  },
  {
   "cell_type": "code",
   "execution_count": 1,
   "id": "25591d91-3657-4403-adb2-90b3ea3ed22f",
   "metadata": {},
   "outputs": [],
   "source": [
    "import numpy as np "
   ]
  },
  {
   "cell_type": "markdown",
   "id": "152e3503-59c5-4511-ae89-8f37229c72b8",
   "metadata": {},
   "source": [
    "# Comparisons, Masks and Boolean Logic"
   ]
  },
  {
   "cell_type": "code",
   "execution_count": 2,
   "id": "57068231-d0ff-49e4-bc69-88b6431f8bbc",
   "metadata": {},
   "outputs": [],
   "source": [
    "import pandas as pd\n",
    "from vega_datasets import data\n"
   ]
  },
  {
   "cell_type": "code",
   "execution_count": 55,
   "id": "7b1a1116-736c-44e8-a0c9-c58960e01ecc",
   "metadata": {},
   "outputs": [
    {
     "data": {
      "text/plain": [
       "(365,)"
      ]
     },
     "execution_count": 55,
     "metadata": {},
     "output_type": "execute_result"
    }
   ],
   "source": [
    "rainfall_mm = np.array(\n",
    "    data.seattle_weather().set_index('date')['precipitation']['2015'])\n",
    "inches = rainfall_mm / 25.4\n",
    "inches.shape"
   ]
  },
  {
   "cell_type": "code",
   "execution_count": 56,
   "id": "2503ce41-9e71-4f2e-93d5-4e32eedc725e",
   "metadata": {},
   "outputs": [
    {
     "data": {
      "image/png": "[encoded data removed]",
      "text/plain": [
       "<Figure size 640x480 with 1 Axes>"
      ]
     },
     "metadata": {},
     "output_type": "display_data"
    }
   ],
   "source": [
    "%matplotlib inline\n",
    "import matplotlib.pyplot as plt\n",
    "plt.style.use('seaborn-v0_8-whitegrid')\n",
    "\n",
    "plt.hist(inches, 40);"
   ]
  },
  {
   "cell_type": "markdown",
   "id": "bd4c06b5-39fd-4454-94ed-7558b6ceacf2",
   "metadata": {},
   "source": [
    "# Comparison Operators as ufuncs"
   ]
  },
  {
   "cell_type": "code",
   "execution_count": 57,
   "id": "998e3465-7fa0-4744-a1a8-a21450dd62eb",
   "metadata": {},
   "outputs": [],
   "source": [
    "x = np.array([1,2,3,4,5])"
   ]
  },
  {
   "cell_type": "code",
   "execution_count": 58,
   "id": "e0e82614-1979-40b9-b681-ff9b37ba844a",
   "metadata": {},
   "outputs": [
    {
     "data": {
      "text/plain": [
       "array([ True,  True, False, False, False])"
      ]
     },
     "execution_count": 58,
     "metadata": {},
     "output_type": "execute_result"
    }
   ],
   "source": [
    "x < 3"
   ]
  },
  {
   "cell_type": "code",
   "execution_count": 59,
   "id": "910d67e9-d755-4bf2-955c-63bfc24f4790",
   "metadata": {},
   "outputs": [
    {
     "data": {
      "text/plain": [
       "array([False, False, False,  True,  True])"
      ]
     },
     "execution_count": 59,
     "metadata": {},
     "output_type": "execute_result"
    }
   ],
   "source": [
    "x > 3"
   ]
  },
  {
   "cell_type": "code",
   "execution_count": 60,
   "id": "b1183df4-4921-47d2-9d8c-7167242b38e9",
   "metadata": {},
   "outputs": [
    {
     "data": {
      "text/plain": [
       "array([ True,  True, False,  True,  True])"
      ]
     },
     "execution_count": 60,
     "metadata": {},
     "output_type": "execute_result"
    }
   ],
   "source": [
    "x != 3"
   ]
  },
  {
   "cell_type": "markdown",
   "id": "54aa2875-ea2a-4d21-82de-46921bfd0128",
   "metadata": {},
   "source": [
    ">Array comparisons with compound expressions"
   ]
  },
  {
   "cell_type": "code",
   "execution_count": 61,
   "id": "e7276875-1530-4699-b451-6598cc966484",
   "metadata": {},
   "outputs": [
    {
     "data": {
      "text/plain": [
       "array([False,  True, False, False, False])"
      ]
     },
     "execution_count": 61,
     "metadata": {},
     "output_type": "execute_result"
    }
   ],
   "source": [
    "(2 * x) == (x ** 2)"
   ]
  },
  {
   "cell_type": "markdown",
   "id": "ea5c48bd-cca8-48fd-b773-4555c3325243",
   "metadata": {},
   "source": [
    ">In 2 dimensions"
   ]
  },
  {
   "cell_type": "code",
   "execution_count": 62,
   "id": "315ae4ac-b088-4fcd-a60a-31ef3e5dd2d8",
   "metadata": {},
   "outputs": [
    {
     "data": {
      "text/plain": [
       "array([[9, 4, 0, 3],\n",
       "       [8, 6, 3, 1],\n",
       "       [3, 7, 4, 0]])"
      ]
     },
     "execution_count": 62,
     "metadata": {},
     "output_type": "execute_result"
    }
   ],
   "source": [
    "rng = np.random.default_rng(seed=1701)\n",
    "x = rng.integers(10, size=(3, 4))\n",
    "x"
   ]
  },
  {
   "cell_type": "code",
   "execution_count": 63,
   "id": "6d0dc86b-6a1f-4b6e-818d-ecd33156c9fe",
   "metadata": {},
   "outputs": [
    {
     "data": {
      "text/plain": [
       "array([[False,  True,  True,  True],\n",
       "       [False, False,  True,  True],\n",
       "       [ True, False,  True,  True]])"
      ]
     },
     "execution_count": 63,
     "metadata": {},
     "output_type": "execute_result"
    }
   ],
   "source": [
    "x < 6"
   ]
  },
  {
   "cell_type": "markdown",
   "id": "94241960-b1dc-4224-bd4e-138ca405ce52",
   "metadata": {},
   "source": [
    "# Working with Boolean Arrays"
   ]
  },
  {
   "cell_type": "code",
   "execution_count": 64,
   "id": "9ca6124e-e69d-4cf1-9b78-9d5cec477e91",
   "metadata": {},
   "outputs": [
    {
     "name": "stdout",
     "output_type": "stream",
     "text": [
      "[[9 4 0 3]\n",
      " [8 6 3 1]\n",
      " [3 7 4 0]]\n"
     ]
    }
   ],
   "source": [
    "print(x)"
   ]
  },
  {
   "cell_type": "markdown",
   "id": "64346372-1051-4c1b-854e-74ee448cb074",
   "metadata": {},
   "source": [
    ">Counting entries"
   ]
  },
  {
   "cell_type": "code",
   "execution_count": 65,
   "id": "9294b2b9-9faf-460d-968b-38d3a10452e8",
   "metadata": {},
   "outputs": [
    {
     "data": {
      "text/plain": [
       "8"
      ]
     },
     "execution_count": 65,
     "metadata": {},
     "output_type": "execute_result"
    }
   ],
   "source": [
    "np.count_nonzero(x < 6)"
   ]
  },
  {
   "cell_type": "code",
   "execution_count": 66,
   "id": "d461418b-e748-4ee9-acde-6d7a41eb3127",
   "metadata": {},
   "outputs": [
    {
     "data": {
      "text/plain": [
       "8"
      ]
     },
     "execution_count": 66,
     "metadata": {},
     "output_type": "execute_result"
    }
   ],
   "source": [
    "np.sum(x < 6)"
   ]
  },
  {
   "cell_type": "markdown",
   "id": "4a6a17f3-bf7a-4a1b-9546-9fe674c67cc1",
   "metadata": {},
   "source": [
    ">Across rows and columns"
   ]
  },
  {
   "cell_type": "code",
   "execution_count": 67,
   "id": "ab3a1745-a018-4fa4-8d2b-bd318699f3e2",
   "metadata": {},
   "outputs": [
    {
     "data": {
      "text/plain": [
       "array([1, 1, 3, 3])"
      ]
     },
     "execution_count": 67,
     "metadata": {},
     "output_type": "execute_result"
    }
   ],
   "source": [
    "np.sum(x < 6, axis=0)"
   ]
  },
  {
   "cell_type": "code",
   "execution_count": 68,
   "id": "4d276007-4c8d-43f3-ab29-7faaa237e36b",
   "metadata": {},
   "outputs": [
    {
     "data": {
      "text/plain": [
       "array([3, 2, 3])"
      ]
     },
     "execution_count": 68,
     "metadata": {},
     "output_type": "execute_result"
    }
   ],
   "source": [
    "np.sum(x < 6, axis=1)"
   ]
  },
  {
   "cell_type": "code",
   "execution_count": 69,
   "id": "d408917e-b239-41a4-841c-a2fc252656be",
   "metadata": {},
   "outputs": [
    {
     "data": {
      "text/plain": [
       "True"
      ]
     },
     "execution_count": 69,
     "metadata": {},
     "output_type": "execute_result"
    }
   ],
   "source": [
    "np.any(x > 8)"
   ]
  },
  {
   "cell_type": "code",
   "execution_count": 70,
   "id": "c05523aa-c648-449a-9ac0-380761144ff1",
   "metadata": {},
   "outputs": [
    {
     "data": {
      "text/plain": [
       "False"
      ]
     },
     "execution_count": 70,
     "metadata": {},
     "output_type": "execute_result"
    }
   ],
   "source": [
    "np.all(x > 0)"
   ]
  },
  {
   "cell_type": "code",
   "execution_count": 71,
   "id": "b0f4eb46-83ab-4f2f-a271-b272e3867bb8",
   "metadata": {},
   "outputs": [
    {
     "data": {
      "text/plain": [
       "True"
      ]
     },
     "execution_count": 71,
     "metadata": {},
     "output_type": "execute_result"
    }
   ],
   "source": [
    "np.all(x >= 0)"
   ]
  },
  {
   "cell_type": "code",
   "execution_count": 72,
   "id": "223dd12d-7998-4eb7-8ea0-a0893a59e9ed",
   "metadata": {},
   "outputs": [
    {
     "data": {
      "text/plain": [
       "array([ True,  True, False])"
      ]
     },
     "execution_count": 72,
     "metadata": {},
     "output_type": "execute_result"
    }
   ],
   "source": [
    "np.any(x > 7, axis=1)"
   ]
  },
  {
   "cell_type": "markdown",
   "id": "2b313364-e662-49d1-9395-92ec3c70ad0a",
   "metadata": {},
   "source": [
    "## Boolean operators"
   ]
  },
  {
   "cell_type": "code",
   "execution_count": 73,
   "id": "6bf3f377-bd32-4399-885f-796997b5cade",
   "metadata": {},
   "outputs": [
    {
     "data": {
      "text/plain": [
       "13"
      ]
     },
     "execution_count": 73,
     "metadata": {},
     "output_type": "execute_result"
    }
   ],
   "source": [
    "np.sum((inches > 0.5 ) & (inches < 1))"
   ]
  },
  {
   "cell_type": "code",
   "execution_count": 75,
   "id": "b46884ef-1bfc-44cd-9f1f-ceec7e924ad6",
   "metadata": {},
   "outputs": [
    {
     "data": {
      "text/plain": [
       "16"
      ]
     },
     "execution_count": 75,
     "metadata": {},
     "output_type": "execute_result"
    }
   ],
   "source": [
    "np.sum((rainfall_mm > 10) & (rainfall_mm < 20))"
   ]
  },
  {
   "cell_type": "code",
   "execution_count": 78,
   "id": "f6b3a2fb-999b-4a0d-bf8a-b672874c8b39",
   "metadata": {},
   "outputs": [
    {
     "data": {
      "text/plain": [
       "13"
      ]
     },
     "execution_count": 78,
     "metadata": {},
     "output_type": "execute_result"
    }
   ],
   "source": [
    "np.sum(~( (inches <= 0.5 ) | (inches >= 1 )))"
   ]
  },
  {
   "cell_type": "code",
   "execution_count": 80,
   "id": "4ef05ddc-372e-477f-b457-e6aad1aa04a9",
   "metadata": {},
   "outputs": [
    {
     "name": "stdout",
     "output_type": "stream",
     "text": [
      "Number of days without rain:\t 221\n",
      "Number of days with rain:\t 144\n",
      "Number of days > 0.5 inches:\t 27\n",
      "Rainy days > 0.2 inches:\t 83\n"
     ]
    }
   ],
   "source": [
    "print(\"Number of days without rain:\\t\", np.sum(inches == 0))\n",
    "print(\"Number of days with rain:\\t\", np.sum(inches != 0))\n",
    "print(\"Number of days > 0.5 inches:\\t\", np.sum(inches > 0.5))\n",
    "print(\"Rainy days > 0.2 inches:\\t\", np.sum((inches > 0) & (inches < 0.2)))"
   ]
  },
  {
   "cell_type": "markdown",
   "id": "42a81f86-b6ce-4ba4-a28e-74beb51c3a26",
   "metadata": {},
   "source": [
    "# Boolean arrays as masks"
   ]
  },
  {
   "cell_type": "code",
   "execution_count": 81,
   "id": "95bd2e8e-a231-406b-b3c7-11b60ca7ad6b",
   "metadata": {},
   "outputs": [
    {
     "data": {
      "text/plain": [
       "array([[9, 4, 0, 3],\n",
       "       [8, 6, 3, 1],\n",
       "       [3, 7, 4, 0]])"
      ]
     },
     "execution_count": 81,
     "metadata": {},
     "output_type": "execute_result"
    }
   ],
   "source": [
    "x"
   ]
  },
  {
   "cell_type": "code",
   "execution_count": 82,
   "id": "d59aaf95-6438-4657-90ce-42b12ff677c6",
   "metadata": {},
   "outputs": [
    {
     "data": {
      "text/plain": [
       "array([[False,  True,  True,  True],\n",
       "       [False, False,  True,  True],\n",
       "       [ True, False,  True,  True]])"
      ]
     },
     "execution_count": 82,
     "metadata": {},
     "output_type": "execute_result"
    }
   ],
   "source": [
    "x < 5"
   ]
  },
  {
   "cell_type": "code",
   "execution_count": 83,
   "id": "bd494152-4b9b-43b7-ae79-cd0550f85471",
   "metadata": {},
   "outputs": [
    {
     "data": {
      "text/plain": [
       "array([4, 0, 3, 3, 1, 3, 4, 0])"
      ]
     },
     "execution_count": 83,
     "metadata": {},
     "output_type": "execute_result"
    }
   ],
   "source": [
    "x[x < 5]"
   ]
  },
  {
   "cell_type": "code",
   "execution_count": 84,
   "id": "8dbeab0e-2f7d-44e0-9b3d-30435d383ab6",
   "metadata": {},
   "outputs": [],
   "source": [
    "rainy = (inches > 0)\n",
    "summer = (np.arange(365) - 172 <90) & (np.arange(365) - 172 > 0)"
   ]
  },
  {
   "cell_type": "code",
   "execution_count": 91,
   "id": "6ba9bb0f-c4b2-4862-8721-9a17865afe2a",
   "metadata": {},
   "outputs": [
    {
     "name": "stdout",
     "output_type": "stream",
     "text": [
      "Median precip on rainy days 0.14960629921259844\n",
      "Median precip on summer days 0.0\n",
      "Maximum precip on summer days 1.2795275590551183\n",
      "Median precip on non-summer rainy days 0.16141732283464566\n"
     ]
    }
   ],
   "source": [
    "print(\"Median precip on rainy days\", np.median(inches[rainy]))\n",
    "print(\"Median precip on summer days\", np.median(inches[summer]))\n",
    "print(\"Maximum precip on summer days\", np.max(inches[summer]))\n",
    "print(\"Median precip on non-summer rainy days\", np.median(inches[rainy & ~summer]))"
   ]
  },
  {
   "cell_type": "code",
   "execution_count": 89,
   "id": "2cc1444d-7d23-4b12-b9c9-3cf4fd0adab3",
   "metadata": {},
   "outputs": [
    {
     "data": {
      "text/plain": [
       "array([False, False, False, False, False, False, False, False,  True,\n",
       "        True])"
      ]
     },
     "execution_count": 89,
     "metadata": {},
     "output_type": "execute_result"
    }
   ],
   "source": [
    "(np.arange(10) - 2) > 5"
   ]
  },
  {
   "cell_type": "markdown",
   "id": "66f3d19b-eb7f-48fa-878d-ac2f3bf9859d",
   "metadata": {},
   "source": [
    "# Fancy Indexing"
   ]
  },
  {
   "cell_type": "code",
   "execution_count": 93,
   "id": "171598ac-c9fd-4d80-a75d-8f73a123bcf0",
   "metadata": {},
   "outputs": [
    {
     "name": "stdout",
     "output_type": "stream",
     "text": [
      "[33 17 74 92  6 58  7 30 22 47]\n"
     ]
    }
   ],
   "source": [
    "import numpy as np \n",
    "rng = np.random.default_rng(seed=172)\n",
    "x = rng.integers(100, size=10)\n",
    "print(x)"
   ]
  },
  {
   "cell_type": "code",
   "execution_count": 94,
   "id": "d34b76f3-827a-473e-a4b8-430d8ff86f10",
   "metadata": {},
   "outputs": [
    {
     "data": {
      "text/plain": [
       "[92, 30, 74]"
      ]
     },
     "execution_count": 94,
     "metadata": {},
     "output_type": "execute_result"
    }
   ],
   "source": [
    "[x[3], x[7], x[2]]"
   ]
  },
  {
   "cell_type": "code",
   "execution_count": 95,
   "id": "64afef1b-98c6-46f1-a01f-f6f6fa55ca47",
   "metadata": {},
   "outputs": [
    {
     "data": {
      "text/plain": [
       "array([92, 30,  6])"
      ]
     },
     "execution_count": 95,
     "metadata": {},
     "output_type": "execute_result"
    }
   ],
   "source": [
    "x[[3,7,4]]"
   ]
  },
  {
   "cell_type": "code",
   "execution_count": 96,
   "id": "37bde3cb-d87c-4ed0-90f0-56d606397ffb",
   "metadata": {},
   "outputs": [
    {
     "data": {
      "text/plain": [
       "array([92, 30,  6])"
      ]
     },
     "execution_count": 96,
     "metadata": {},
     "output_type": "execute_result"
    }
   ],
   "source": [
    "ind = [3,7,4]\n",
    "x[ind]"
   ]
  },
  {
   "cell_type": "markdown",
   "id": "de6e3e83-3fc9-4047-a56c-55dfb12aaa0c",
   "metadata": {},
   "source": [
    ">The array has the shape of the index"
   ]
  },
  {
   "cell_type": "code",
   "execution_count": 97,
   "id": "19325f70-1e54-44b3-b699-671ba63d914b",
   "metadata": {},
   "outputs": [
    {
     "data": {
      "text/plain": [
       "array([[92, 30],\n",
       "       [ 6, 58]])"
      ]
     },
     "execution_count": 97,
     "metadata": {},
     "output_type": "execute_result"
    }
   ],
   "source": [
    "ind = np.array([[3,7],\n",
    "                [4,5]])\n",
    "x[ind]"
   ]
  },
  {
   "cell_type": "markdown",
   "id": "a1ac0346-9b95-4c3b-b796-7eabce791487",
   "metadata": {},
   "source": [
    ">Multiple dimensions"
   ]
  },
  {
   "cell_type": "code",
   "execution_count": 99,
   "id": "d4d4275a-5b70-476a-bb46-e1400de862c8",
   "metadata": {},
   "outputs": [
    {
     "data": {
      "text/plain": [
       "array([[ 0,  1,  2,  3],\n",
       "       [ 4,  5,  6,  7],\n",
       "       [ 8,  9, 10, 11]])"
      ]
     },
     "execution_count": 99,
     "metadata": {},
     "output_type": "execute_result"
    }
   ],
   "source": [
    "X = np.arange(12).reshape((3,4))\n",
    "X"
   ]
  },
  {
   "cell_type": "code",
   "execution_count": 100,
   "id": "ff9d91c0-5a6d-4ccb-89ee-67f698747fb8",
   "metadata": {},
   "outputs": [],
   "source": [
    "row = np.array([0,1,2])\n",
    "col = np.array([2,1,3])"
   ]
  },
  {
   "cell_type": "code",
   "execution_count": 101,
   "id": "dad6bfd5-b3e0-41a6-bde8-0cfc3fe8ea23",
   "metadata": {},
   "outputs": [
    {
     "data": {
      "text/plain": [
       "array([[ 0,  1,  2,  3],\n",
       "       [ 4,  5,  6,  7],\n",
       "       [ 8,  9, 10, 11]])"
      ]
     },
     "execution_count": 101,
     "metadata": {},
     "output_type": "execute_result"
    }
   ],
   "source": [
    "X[row]"
   ]
  },
  {
   "cell_type": "code",
   "execution_count": 103,
   "id": "7c29944f-e6a9-42ee-9150-fc7ace216bf8",
   "metadata": {},
   "outputs": [
    {
     "data": {
      "text/plain": [
       "array([ 2,  5, 11])"
      ]
     },
     "execution_count": 103,
     "metadata": {},
     "output_type": "execute_result"
    }
   ],
   "source": [
    "X[row,col]"
   ]
  },
  {
   "cell_type": "code",
   "execution_count": 104,
   "id": "e825b29c-5a9a-476f-8c3f-3142fe54ef59",
   "metadata": {},
   "outputs": [
    {
     "data": {
      "text/plain": [
       "array([[[ 0,  1,  2,  3]],\n",
       "\n",
       "       [[ 4,  5,  6,  7]],\n",
       "\n",
       "       [[ 8,  9, 10, 11]]])"
      ]
     },
     "execution_count": 104,
     "metadata": {},
     "output_type": "execute_result"
    }
   ],
   "source": [
    "X[row[:, np.newaxis]]"
   ]
  },
  {
   "cell_type": "code",
   "execution_count": 105,
   "id": "ee8110d8-8e55-4dc2-b7fd-207da889defb",
   "metadata": {},
   "outputs": [
    {
     "data": {
      "text/plain": [
       "array([[ 2,  1,  3],\n",
       "       [ 6,  5,  7],\n",
       "       [10,  9, 11]])"
      ]
     },
     "execution_count": 105,
     "metadata": {},
     "output_type": "execute_result"
    }
   ],
   "source": [
    "X[row[:, np.newaxis], col]"
   ]
  },
  {
   "cell_type": "code",
   "execution_count": 106,
   "id": "03abbdae-3313-47ec-85c0-b887e17e1c4b",
   "metadata": {},
   "outputs": [
    {
     "data": {
      "text/plain": [
       "array([[0, 0, 0],\n",
       "       [2, 1, 3],\n",
       "       [4, 2, 6]])"
      ]
     },
     "execution_count": 106,
     "metadata": {},
     "output_type": "execute_result"
    }
   ],
   "source": [
    "row[:, np.newaxis] * col"
   ]
  },
  {
   "cell_type": "markdown",
   "id": "3897a4c5-2656-4a92-b90a-0cb6ce7f4837",
   "metadata": {},
   "source": [
    "# Combined indexing"
   ]
  },
  {
   "cell_type": "code",
   "execution_count": 107,
   "id": "5f141b28-168a-453a-88ed-15d037521077",
   "metadata": {},
   "outputs": [
    {
     "data": {
      "text/plain": [
       "array([[ 0,  1,  2,  3],\n",
       "       [ 4,  5,  6,  7],\n",
       "       [ 8,  9, 10, 11]])"
      ]
     },
     "execution_count": 107,
     "metadata": {},
     "output_type": "execute_result"
    }
   ],
   "source": [
    "X"
   ]
  },
  {
   "cell_type": "markdown",
   "id": "c7b1a48b-7c64-491d-ac45-6cad54b7f8d4",
   "metadata": {},
   "source": [
    ">Combine fancy and simple"
   ]
  },
  {
   "cell_type": "code",
   "execution_count": 109,
   "id": "d8f02bdd-48ca-4773-99f5-74e8b7203888",
   "metadata": {},
   "outputs": [
    {
     "data": {
      "text/plain": [
       "array([10,  8, 11])"
      ]
     },
     "execution_count": 109,
     "metadata": {},
     "output_type": "execute_result"
    }
   ],
   "source": [
    "X[2, [2,0,3]]"
   ]
  },
  {
   "cell_type": "markdown",
   "id": "80735eae-041a-4060-aac5-c75f26c94a95",
   "metadata": {},
   "source": [
    ">Combine fancy with slicing"
   ]
  },
  {
   "cell_type": "code",
   "execution_count": 110,
   "id": "a2fb4d2c-7c68-4903-bd01-250c39474109",
   "metadata": {},
   "outputs": [
    {
     "data": {
      "text/plain": [
       "array([[ 6,  4,  5],\n",
       "       [10,  8,  9]])"
      ]
     },
     "execution_count": 110,
     "metadata": {},
     "output_type": "execute_result"
    }
   ],
   "source": [
    "X[1:,[2, 0, 1]]"
   ]
  },
  {
   "cell_type": "markdown",
   "id": "6a261691-b4a2-483f-86b8-bb962d4603e5",
   "metadata": {},
   "source": [
    ">Combine fancy with masking"
   ]
  },
  {
   "cell_type": "code",
   "execution_count": 111,
   "id": "1a626809-ff08-4c6a-91ea-bd4f255a45c2",
   "metadata": {},
   "outputs": [
    {
     "data": {
      "text/plain": [
       "array([[ 0,  2],\n",
       "       [ 4,  6],\n",
       "       [ 8, 10]])"
      ]
     },
     "execution_count": 111,
     "metadata": {},
     "output_type": "execute_result"
    }
   ],
   "source": [
    "mask = np.array([1,0,1,0], dtype=bool)\n",
    "X[row[:, np.newaxis],mask]"
   ]
  },
  {
   "cell_type": "markdown",
   "id": "7d88614f-3f54-48aa-a2b7-03d0c4998813",
   "metadata": {},
   "source": [
    "## Selecting random points"
   ]
  },
  {
   "cell_type": "code",
   "execution_count": 112,
   "id": "c2b74f28-8ad5-466e-bd68-55218ffb54a1",
   "metadata": {},
   "outputs": [
    {
     "data": {
      "text/plain": [
       "(100, 2)"
      ]
     },
     "execution_count": 112,
     "metadata": {},
     "output_type": "execute_result"
    }
   ],
   "source": [
    "mean = [0,0]\n",
    "cov = [[1,2],\n",
    "       [2,5]]\n",
    "X = rng.multivariate_normal(mean, cov, 100)\n",
    "X.shape"
   ]
  },
  {
   "cell_type": "code",
   "execution_count": 121,
   "id": "72b3be69-72ec-43e2-accc-b31b8c6ea973",
   "metadata": {},
   "outputs": [
    {
     "data": {
      "image/png": "[encoded data removed]",
      "text/plain": [
       "<Figure size 640x480 with 1 Axes>"
      ]
     },
     "metadata": {},
     "output_type": "display_data"
    }
   ],
   "source": [
    "%matplotlib inline\n",
    "import matplotlib.pyplot as plt \n",
    "plt.style.use('seaborn-v0_8-darkgrid')\n",
    "plt.scatter(X[:,0], X[:,1], s=30);"
   ]
  },
  {
   "cell_type": "markdown",
   "id": "bf3bafe1-5a80-4b65-b1e3-6a260b5475d2",
   "metadata": {},
   "source": [
    "> select 20 random points"
   ]
  },
  {
   "cell_type": "code",
   "execution_count": 122,
   "id": "1a099ec1-a759-445a-ba14-267466b488d6",
   "metadata": {},
   "outputs": [
    {
     "data": {
      "text/plain": [
       "array([33, 39, 46, 16, 85,  2, 40, 37, 50, 95, 49, 56, 43, 81, 87, 30, 64,\n",
       "       90, 12, 69])"
      ]
     },
     "execution_count": 122,
     "metadata": {},
     "output_type": "execute_result"
    }
   ],
   "source": [
    "indices = rng.choice(X.shape[0], 20, replace=False)\n",
    "indices"
   ]
  },
  {
   "cell_type": "code",
   "execution_count": 123,
   "id": "16032365-ff54-4acd-aff5-2a247507e378",
   "metadata": {},
   "outputs": [
    {
     "data": {
      "text/plain": [
       "array([[ 0.77221702,  2.38768489],\n",
       "       [-0.96271152, -1.5854034 ],\n",
       "       [ 0.32280088,  0.56388269],\n",
       "       [-0.32083704,  0.77040957],\n",
       "       [-0.78039237, -2.02900027]])"
      ]
     },
     "execution_count": 123,
     "metadata": {},
     "output_type": "execute_result"
    }
   ],
   "source": [
    "X[:5]"
   ]
  },
  {
   "cell_type": "code",
   "execution_count": 124,
   "id": "3937627b-7fb1-4061-996e-50542b87ae55",
   "metadata": {},
   "outputs": [
    {
     "data": {
      "text/plain": [
       "(100, 2)"
      ]
     },
     "execution_count": 124,
     "metadata": {},
     "output_type": "execute_result"
    }
   ],
   "source": [
    "X.shape"
   ]
  },
  {
   "cell_type": "code",
   "execution_count": 125,
   "id": "9ee88b28-5a3d-4717-84bd-ee85dc12abe6",
   "metadata": {},
   "outputs": [
    {
     "data": {
      "text/plain": [
       "(20, 2)"
      ]
     },
     "execution_count": 125,
     "metadata": {},
     "output_type": "execute_result"
    }
   ],
   "source": [
    "selection = X[indices]\n",
    "selection.shape"
   ]
  },
  {
   "cell_type": "code",
   "execution_count": 136,
   "id": "02099501-731f-4c20-9aad-a262c09f9368",
   "metadata": {},
   "outputs": [
    {
     "data": {
      "image/png": "[encoded data removed]",
      "text/plain": [
       "<Figure size 640x480 with 1 Axes>"
      ]
     },
     "metadata": {},
     "output_type": "display_data"
    }
   ],
   "source": [
    "plt.scatter(X[:,0], X[:,1], s=30, alpha=0.3)\n",
    "plt.scatter(selection[:,0], selection[:,1], edgecolors='red', \n",
    "            facecolor='none', s=200);"
   ]
  },
  {
   "cell_type": "markdown",
   "id": "5d83942e-a011-4670-a279-7e51fca0cde5",
   "metadata": {},
   "source": [
    "# Modifying values with fancy indexing"
   ]
  },
  {
   "cell_type": "code",
   "execution_count": 139,
   "id": "7d11d6bf-0f88-40de-830d-fcad6696f9da",
   "metadata": {},
   "outputs": [
    {
     "data": {
      "text/plain": [
       "array([ 0, 99, 99,  3, 99,  5,  6,  7, 99,  9])"
      ]
     },
     "execution_count": 139,
     "metadata": {},
     "output_type": "execute_result"
    }
   ],
   "source": [
    "x = np.arange(10)\n",
    "i = np.array([2,1,8,4])\n",
    "x[i] = 99\n",
    "x"
   ]
  },
  {
   "cell_type": "code",
   "execution_count": 140,
   "id": "7900d474-977b-40f1-a7a0-fab61a4bddd3",
   "metadata": {},
   "outputs": [
    {
     "data": {
      "text/plain": [
       "array([ 0, 89, 89,  3, 89,  5,  6,  7, 89,  9])"
      ]
     },
     "execution_count": 140,
     "metadata": {},
     "output_type": "execute_result"
    }
   ],
   "source": [
    "x[i] -= 10\n",
    "x"
   ]
  },
  {
   "cell_type": "code",
   "execution_count": 142,
   "id": "3598c268-acac-4614-a319-71d9540ad246",
   "metadata": {},
   "outputs": [
    {
     "data": {
      "text/plain": [
       "array([6., 0., 0., 0., 0., 0., 0., 0., 0., 0.])"
      ]
     },
     "execution_count": 142,
     "metadata": {},
     "output_type": "execute_result"
    }
   ],
   "source": [
    "x = np.zeros(10)\n",
    "x[[0,0]] = [4,6]\n",
    "x"
   ]
  },
  {
   "cell_type": "code",
   "execution_count": 144,
   "id": "72ba342d-8e68-4e6a-b971-588bbfd71d52",
   "metadata": {},
   "outputs": [
    {
     "data": {
      "text/plain": [
       "array([0., 0., 1., 1., 1., 0., 0., 0., 0., 0.])"
      ]
     },
     "execution_count": 144,
     "metadata": {},
     "output_type": "execute_result"
    }
   ],
   "source": [
    "x = np.zeros(10)\n",
    "i = [2,3,3,4,4,4]\n",
    "x[i] += 1\n",
    "x"
   ]
  },
  {
   "cell_type": "markdown",
   "id": "4d81317e-b4d1-437f-b675-d32f2be2f830",
   "metadata": {},
   "source": [
    ">`at` method"
   ]
  },
  {
   "cell_type": "code",
   "execution_count": 145,
   "id": "5efa6eba-fc4e-4566-b0d6-b13bc8bff55e",
   "metadata": {},
   "outputs": [
    {
     "data": {
      "text/plain": [
       "array([0., 0., 1., 2., 3., 0., 0., 0., 0., 0.])"
      ]
     },
     "execution_count": 145,
     "metadata": {},
     "output_type": "execute_result"
    }
   ],
   "source": [
    "x = np.zeros(10)\n",
    "np.add.at(x, i, 1)\n",
    "x"
   ]
  },
  {
   "cell_type": "markdown",
   "id": "bbebd760-981b-45b4-951e-e16d2803b733",
   "metadata": {},
   "source": [
    "# Binning Data"
   ]
  },
  {
   "cell_type": "code",
   "execution_count": 157,
   "id": "102abf4d-3b00-4807-a1d6-97e765b876cb",
   "metadata": {},
   "outputs": [],
   "source": [
    "rng = np.random.default_rng(seed=42)\n",
    "x = rng.normal(size=100)"
   ]
  },
  {
   "cell_type": "markdown",
   "id": "078c4c48-23d2-4c2a-88e1-a79e3cddd56f",
   "metadata": {},
   "source": [
    "Manually compute histogram"
   ]
  },
  {
   "cell_type": "code",
   "execution_count": 158,
   "id": "11348d8e-c6b3-440b-be07-68343e749aef",
   "metadata": {},
   "outputs": [],
   "source": [
    "# compute a histogram by hand\n",
    "bins = np.linspace(-5, 5, 20)\n",
    "counts = np.zeros_like(bins)\n",
    "\n",
    "# find the appropriate bin for each x\n",
    "i = np.searchsorted(bins, x)\n",
    "\n",
    "# add 1 to each of these bins\n",
    "np.add.at(counts, i, 1)"
   ]
  },
  {
   "cell_type": "code",
   "execution_count": 159,
   "id": "0c913c22-437c-4acc-a6d8-3e1830fd7042",
   "metadata": {},
   "outputs": [
    {
     "data": {
      "image/png": "[encoded data removed]",
      "text/plain": [
       "<Figure size 640x480 with 1 Axes>"
      ]
     },
     "metadata": {},
     "output_type": "display_data"
    }
   ],
   "source": [
    "plt.plot(bins, counts, drawstyle='steps');"
   ]
  },
  {
   "cell_type": "code",
   "execution_count": 168,
   "id": "6227417a-8e71-40f7-9c41-99940aaf6ed1",
   "metadata": {},
   "outputs": [
    {
     "data": {
      "image/png": "[encoded data removed]",
      "text/plain": [
       "<Figure size 640x480 with 1 Axes>"
      ]
     },
     "metadata": {},
     "output_type": "display_data"
    }
   ],
   "source": [
    "plt.hist(x, bins, histtype='step');"
   ]
  },
  {
   "cell_type": "markdown",
   "id": "89145a0d-d1b7-46fd-8a47-6e761c8a0c03",
   "metadata": {},
   "source": [
    "# Sorting Arrays"
   ]
  },
  {
   "cell_type": "markdown",
   "id": "cc800627-31cc-4c5e-8f93-fd72359634ad",
   "metadata": {},
   "source": [
    "> Selection sort\n",
    ">\n",
    "> $O(N^2)$"
   ]
  },
  {
   "cell_type": "code",
   "execution_count": 179,
   "id": "f63795a2-435a-4728-ad91-05e449aae125",
   "metadata": {},
   "outputs": [],
   "source": [
    "import numpy as np \n",
    "\n",
    "def selection_sort(x):\n",
    "    for i in range(len(x)): \n",
    "        swap = i + np.argmin(x[i:])\n",
    "        print(f\"{i=}, {swap=}\")\n",
    "        (x[i], x[swap]) = (x[swap], x[i])\n",
    "    return x"
   ]
  },
  {
   "cell_type": "code",
   "execution_count": 180,
   "id": "900cd44c-9c86-4787-aafa-432b78597198",
   "metadata": {},
   "outputs": [
    {
     "name": "stdout",
     "output_type": "stream",
     "text": [
      "i=0, swap=1\n",
      "i=1, swap=1\n",
      "i=2, swap=3\n",
      "i=3, swap=3\n",
      "i=4, swap=4\n"
     ]
    },
    {
     "data": {
      "text/plain": [
       "array([1, 2, 3, 4, 5])"
      ]
     },
     "execution_count": 180,
     "metadata": {},
     "output_type": "execute_result"
    }
   ],
   "source": [
    "x = np.array([2, 1, 4, 3, 5])\n",
    "selection_sort(x)"
   ]
  },
  {
   "cell_type": "markdown",
   "id": "e0bf3552-ec80-4038-8f10-8984efcbb256",
   "metadata": {},
   "source": [
    ">Bogosort\n",
    ">\n",
    ">Very inefficient based on random shuffling until the result happens to be sorted\n",
    ">\n",
    ">$O(N \\times N!)$"
   ]
  },
  {
   "cell_type": "code",
   "execution_count": 181,
   "id": "500293e4-0577-408d-bf53-000d3a826929",
   "metadata": {},
   "outputs": [],
   "source": [
    "def bogosort(x):\n",
    "    while np.any(x[:-1] > x[1:]):\n",
    "        rng.shuffle(x)\n",
    "    return x"
   ]
  },
  {
   "cell_type": "code",
   "execution_count": 182,
   "id": "609c65ed-aefa-41b9-8880-9cdf0b89e31a",
   "metadata": {},
   "outputs": [
    {
     "data": {
      "text/plain": [
       "array([1, 2, 3, 4, 5])"
      ]
     },
     "execution_count": 182,
     "metadata": {},
     "output_type": "execute_result"
    }
   ],
   "source": [
    "x = np.array([2,1,4,3,5])\n",
    "bogosort(x)"
   ]
  },
  {
   "cell_type": "markdown",
   "id": "4461c624-2ef0-4f42-a1a8-4caf188f6ba7",
   "metadata": {},
   "source": [
    ">Fast sorting\n",
    ">\n",
    ">Default is $O(N \\log N)$ quicksort\n",
    ">\n",
    ">Can choose heapsort or mergesort"
   ]
  },
  {
   "cell_type": "code",
   "execution_count": 187,
   "id": "f83332f6-7559-444a-85e6-2bcc6891dbbc",
   "metadata": {},
   "outputs": [
    {
     "name": "stdout",
     "output_type": "stream",
     "text": [
      "[1 2 3 4 5]\n",
      "[2 1 4 3 5]\n"
     ]
    }
   ],
   "source": [
    "x = np.array([2,1,4,3,5])\n",
    "print(np.sort(x))\n",
    "print(x)"
   ]
  },
  {
   "cell_type": "code",
   "execution_count": 188,
   "id": "680f1a9c-e643-4b27-8eed-638a13c48787",
   "metadata": {},
   "outputs": [],
   "source": [
    "x.sort()"
   ]
  },
  {
   "cell_type": "code",
   "execution_count": 189,
   "id": "fed95229-716e-4b82-92b2-1e3039d246c5",
   "metadata": {},
   "outputs": [
    {
     "name": "stdout",
     "output_type": "stream",
     "text": [
      "[1 2 3 4 5]\n"
     ]
    }
   ],
   "source": [
    "print(x)"
   ]
  },
  {
   "cell_type": "markdown",
   "id": "2323182a-d9b1-4bad-9af5-ba97a09a748d",
   "metadata": {},
   "source": [
    ">argsort returns indices of sorted elements"
   ]
  },
  {
   "cell_type": "code",
   "execution_count": 190,
   "id": "1c517257-06d5-4cfc-9eb7-0eb629f580ca",
   "metadata": {},
   "outputs": [
    {
     "name": "stdout",
     "output_type": "stream",
     "text": [
      "[1 0 3 2 4]\n",
      "[1 2 3 4 5]\n"
     ]
    }
   ],
   "source": [
    "x = np.array([2,1,4,3,5])\n",
    "i = np.argsort(x)\n",
    "print(i)\n",
    "print(x[i])"
   ]
  },
  {
   "cell_type": "markdown",
   "id": "48573c3c-e6e9-4f03-8733-f3431292065c",
   "metadata": {},
   "source": [
    ">Sorting along rows and colums"
   ]
  },
  {
   "cell_type": "code",
   "execution_count": 191,
   "id": "a89d13b0-bb00-436c-946c-e47d40c69f92",
   "metadata": {},
   "outputs": [
    {
     "data": {
      "text/plain": [
       "array([[0, 7, 6, 4, 4, 8],\n",
       "       [0, 6, 2, 0, 5, 9],\n",
       "       [7, 7, 7, 7, 5, 1],\n",
       "       [8, 4, 5, 3, 1, 9]])"
      ]
     },
     "execution_count": 191,
     "metadata": {},
     "output_type": "execute_result"
    }
   ],
   "source": [
    "rng = np.random.default_rng(seed=42)\n",
    "X = rng.integers(0, 10, (4,6))\n",
    "X"
   ]
  },
  {
   "cell_type": "code",
   "execution_count": 193,
   "id": "6556de59-75c9-4e62-8d58-cf5a3efd8200",
   "metadata": {},
   "outputs": [
    {
     "data": {
      "text/plain": [
       "array([[0, 4, 4, 6, 7, 8],\n",
       "       [0, 0, 2, 5, 6, 9],\n",
       "       [1, 5, 7, 7, 7, 7],\n",
       "       [1, 3, 4, 5, 8, 9]])"
      ]
     },
     "execution_count": 193,
     "metadata": {},
     "output_type": "execute_result"
    }
   ],
   "source": [
    "np.sort(X)"
   ]
  },
  {
   "cell_type": "code",
   "execution_count": 195,
   "id": "a0677b4e-c98b-4da0-9388-822a50fe336b",
   "metadata": {},
   "outputs": [
    {
     "data": {
      "text/plain": [
       "array([[0, 4, 4, 6, 7, 8],\n",
       "       [0, 0, 2, 5, 6, 9],\n",
       "       [1, 5, 7, 7, 7, 7],\n",
       "       [1, 3, 4, 5, 8, 9]])"
      ]
     },
     "execution_count": 195,
     "metadata": {},
     "output_type": "execute_result"
    }
   ],
   "source": [
    "np.sort(X, axis=1)"
   ]
  },
  {
   "cell_type": "markdown",
   "id": "b0272279-0eb5-4a9d-9911-a9ee5ad77d80",
   "metadata": {},
   "source": [
    ">Partial sorts: partitioning\n",
    ">\n",
    ">eg. $K$ smallest values rather than sorting the entire array\n",
    ">takes the smallest K values and puts them at the beginning.\n",
    ">\n",
    ">Both sub-groups have arbitrary order"
   ]
  },
  {
   "cell_type": "code",
   "execution_count": 199,
   "id": "18179f2b-d225-495e-806d-3c0d02e14d73",
   "metadata": {},
   "outputs": [
    {
     "data": {
      "text/plain": [
       "array([1, 2, 4, 7, 6, 5, 9])"
      ]
     },
     "execution_count": 199,
     "metadata": {},
     "output_type": "execute_result"
    }
   ],
   "source": [
    "x = np.array([7, 2, 9, 1, 6, 5, 4])\n",
    "np.partition(x, 2)"
   ]
  },
  {
   "cell_type": "code",
   "execution_count": 200,
   "id": "a459721e-c9e7-4096-ad70-c6266ecb39ca",
   "metadata": {},
   "outputs": [
    {
     "data": {
      "text/plain": [
       "array([[0, 7, 6, 4, 4, 8],\n",
       "       [0, 6, 2, 0, 5, 9],\n",
       "       [7, 7, 7, 7, 5, 1],\n",
       "       [8, 4, 5, 3, 1, 9]])"
      ]
     },
     "execution_count": 200,
     "metadata": {},
     "output_type": "execute_result"
    }
   ],
   "source": [
    "X"
   ]
  },
  {
   "cell_type": "code",
   "execution_count": 202,
   "id": "e0ecc99b-c833-448a-9d63-2bac2e26a868",
   "metadata": {},
   "outputs": [
    {
     "data": {
      "text/plain": [
       "array([[0, 4, 2, 0, 1, 1],\n",
       "       [0, 6, 5, 3, 4, 8],\n",
       "       [7, 7, 6, 4, 5, 9],\n",
       "       [8, 7, 7, 7, 5, 9]])"
      ]
     },
     "execution_count": 202,
     "metadata": {},
     "output_type": "execute_result"
    }
   ],
   "source": [
    "np.partition(X, 2, axis=0)"
   ]
  },
  {
   "cell_type": "code",
   "execution_count": 203,
   "id": "6864f0b9-ba9f-4391-8ac2-a53fa73fd649",
   "metadata": {},
   "outputs": [
    {
     "data": {
      "text/plain": [
       "array([[0, 4, 4, 7, 6, 8],\n",
       "       [0, 0, 2, 6, 5, 9],\n",
       "       [1, 5, 7, 7, 7, 7],\n",
       "       [1, 3, 4, 5, 8, 9]])"
      ]
     },
     "execution_count": 203,
     "metadata": {},
     "output_type": "execute_result"
    }
   ],
   "source": [
    "np.partition(X, 2, axis=1)"
   ]
  },
  {
   "cell_type": "markdown",
   "id": "fc6c104b-e8f2-4827-8c78-6c79b94326e1",
   "metadata": {},
   "source": [
    "# NumPy k-Nearest Neighbors"
   ]
  },
  {
   "cell_type": "code",
   "execution_count": 225,
   "id": "3bfd773f-91fa-4ab7-8fc8-d41f50625303",
   "metadata": {},
   "outputs": [],
   "source": [
    "rng = np.random.default_rng(seed=1072)\n",
    "X = rng.random((10,2))"
   ]
  },
  {
   "cell_type": "code",
   "execution_count": 226,
   "id": "e4a02594-1b3c-4404-ae74-bed322ba1622",
   "metadata": {},
   "outputs": [
    {
     "data": {
      "image/png": "[encoded data removed]",
      "text/plain": [
       "<Figure size 640x480 with 1 Axes>"
      ]
     },
     "metadata": {},
     "output_type": "display_data"
    }
   ],
   "source": [
    "%matplotlib inline\n",
    "import matplotlib.pyplot as plt \n",
    "plt.style.use('ggplot')\n",
    "plt.scatter(X[:,0], X[:,1], s=100);"
   ]
  },
  {
   "cell_type": "markdown",
   "id": "4afa8059-487a-4d7c-adef-5422dce8c5ba",
   "metadata": {},
   "source": [
    ">Compute the distance between the points"
   ]
  },
  {
   "cell_type": "code",
   "execution_count": 227,
   "id": "e2bf4ec8-7c44-4b4b-b8d3-3369122fcb53",
   "metadata": {},
   "outputs": [],
   "source": [
    "dist_sq = np.sum((X[:, np.newaxis] - X[np.newaxis, :]) ** 2, axis=-1)"
   ]
  },
  {
   "cell_type": "code",
   "execution_count": 228,
   "id": "b20d13b4-099d-4942-9bf8-e8ec14d733d7",
   "metadata": {},
   "outputs": [
    {
     "data": {
      "text/plain": [
       "(10, 10, 2)"
      ]
     },
     "execution_count": 228,
     "metadata": {},
     "output_type": "execute_result"
    }
   ],
   "source": [
    "differences = X[:, np.newaxis] - X[np.newaxis, :]\n",
    "differences.shape"
   ]
  },
  {
   "cell_type": "code",
   "execution_count": 229,
   "id": "fe7ab756-00aa-49f5-bde9-b4f358d232e2",
   "metadata": {},
   "outputs": [
    {
     "data": {
      "text/plain": [
       "array([[0.51875285, 0.68375989],\n",
       "       [0.88710275, 0.43698164],\n",
       "       [0.52925632, 0.51273057],\n",
       "       [0.19807892, 0.55679665],\n",
       "       [0.79818734, 0.50937835],\n",
       "       [0.73140744, 0.79933684],\n",
       "       [0.8446842 , 0.83604152],\n",
       "       [0.37903383, 0.48513945],\n",
       "       [0.28584196, 0.83724795],\n",
       "       [0.56756174, 0.01828761]])"
      ]
     },
     "execution_count": 229,
     "metadata": {},
     "output_type": "execute_result"
    }
   ],
   "source": [
    "X"
   ]
  },
  {
   "cell_type": "code",
   "execution_count": 230,
   "id": "f3fc1c8e-f801-4a21-a8d5-08ce7c3f7c6a",
   "metadata": {},
   "outputs": [
    {
     "data": {
      "text/plain": [
       "array([[[0.51875285, 0.68375989]],\n",
       "\n",
       "       [[0.88710275, 0.43698164]],\n",
       "\n",
       "       [[0.52925632, 0.51273057]],\n",
       "\n",
       "       [[0.19807892, 0.55679665]],\n",
       "\n",
       "       [[0.79818734, 0.50937835]],\n",
       "\n",
       "       [[0.73140744, 0.79933684]],\n",
       "\n",
       "       [[0.8446842 , 0.83604152]],\n",
       "\n",
       "       [[0.37903383, 0.48513945]],\n",
       "\n",
       "       [[0.28584196, 0.83724795]],\n",
       "\n",
       "       [[0.56756174, 0.01828761]]])"
      ]
     },
     "execution_count": 230,
     "metadata": {},
     "output_type": "execute_result"
    }
   ],
   "source": [
    "X[:, np.newaxis]"
   ]
  },
  {
   "cell_type": "code",
   "execution_count": 231,
   "id": "72df1aa2-f7ef-49f4-a695-54fb3cf68967",
   "metadata": {},
   "outputs": [
    {
     "data": {
      "text/plain": [
       "((10, 2), (10, 1, 2))"
      ]
     },
     "execution_count": 231,
     "metadata": {},
     "output_type": "execute_result"
    }
   ],
   "source": [
    "X.shape, X[:, np.newaxis].shape"
   ]
  },
  {
   "cell_type": "code",
   "execution_count": 232,
   "id": "e34700a6-9141-47e5-b81b-ab40a6794d4c",
   "metadata": {},
   "outputs": [
    {
     "data": {
      "text/plain": [
       "array([[[0.51875285, 0.68375989]],\n",
       "\n",
       "       [[0.88710275, 0.43698164]],\n",
       "\n",
       "       [[0.52925632, 0.51273057]],\n",
       "\n",
       "       [[0.19807892, 0.55679665]],\n",
       "\n",
       "       [[0.79818734, 0.50937835]],\n",
       "\n",
       "       [[0.73140744, 0.79933684]],\n",
       "\n",
       "       [[0.8446842 , 0.83604152]],\n",
       "\n",
       "       [[0.37903383, 0.48513945]],\n",
       "\n",
       "       [[0.28584196, 0.83724795]],\n",
       "\n",
       "       [[0.56756174, 0.01828761]]])"
      ]
     },
     "execution_count": 232,
     "metadata": {},
     "output_type": "execute_result"
    }
   ],
   "source": [
    "X[:10, np.newaxis]"
   ]
  },
  {
   "cell_type": "code",
   "execution_count": 233,
   "id": "8ddd7363-df30-4b6d-872c-0aed62de7d17",
   "metadata": {},
   "outputs": [
    {
     "data": {
      "text/plain": [
       "array([[[0.51875285, 0.68375989],\n",
       "        [0.88710275, 0.43698164],\n",
       "        [0.52925632, 0.51273057],\n",
       "        [0.19807892, 0.55679665],\n",
       "        [0.79818734, 0.50937835],\n",
       "        [0.73140744, 0.79933684],\n",
       "        [0.8446842 , 0.83604152],\n",
       "        [0.37903383, 0.48513945],\n",
       "        [0.28584196, 0.83724795],\n",
       "        [0.56756174, 0.01828761]]])"
      ]
     },
     "execution_count": 233,
     "metadata": {},
     "output_type": "execute_result"
    }
   ],
   "source": [
    "X[np.newaxis, :10]"
   ]
  },
  {
   "cell_type": "code",
   "execution_count": 234,
   "id": "536cf82d-a43c-4f45-96f7-887ffd6afdf2",
   "metadata": {},
   "outputs": [
    {
     "data": {
      "text/plain": [
       "array([0., 0., 0., 0., 0., 0., 0., 0., 0., 0.])"
      ]
     },
     "execution_count": 234,
     "metadata": {},
     "output_type": "execute_result"
    }
   ],
   "source": [
    "dist_sq.diagonal()"
   ]
  },
  {
   "cell_type": "markdown",
   "id": "30a614de-86c9-45cf-b4d4-4a978b5e7e13",
   "metadata": {},
   "source": [
    ">Sort along each row, the left-most columns will give the indices of the nearest neighbors"
   ]
  },
  {
   "cell_type": "code",
   "execution_count": 235,
   "id": "7dafd127-77d6-4314-9ad1-bab8c467955e",
   "metadata": {},
   "outputs": [
    {
     "data": {
      "text/plain": [
       "array([[0, 2, 5, 7, 8, 4, 3, 6, 1, 9],\n",
       "       [1, 4, 2, 5, 6, 0, 7, 9, 3, 8],\n",
       "       [2, 7, 0, 4, 3, 5, 1, 8, 6, 9],\n",
       "       [3, 7, 8, 2, 0, 5, 4, 9, 1, 6],\n",
       "       [4, 1, 2, 5, 0, 6, 7, 9, 3, 8],\n",
       "       [5, 6, 0, 4, 2, 1, 8, 7, 3, 9],\n",
       "       [6, 5, 4, 0, 1, 2, 8, 7, 3, 9],\n",
       "       [7, 2, 3, 0, 8, 4, 5, 9, 1, 6],\n",
       "       [8, 0, 3, 7, 2, 5, 6, 4, 1, 9],\n",
       "       [9, 2, 7, 1, 4, 3, 0, 5, 6, 8]])"
      ]
     },
     "execution_count": 235,
     "metadata": {},
     "output_type": "execute_result"
    }
   ],
   "source": [
    "nearest = np.argsort(dist_sq, axis=1)\n",
    "nearest"
   ]
  },
  {
   "cell_type": "markdown",
   "id": "aad0b90e-1caa-4e1b-85b8-c8c2699895e7",
   "metadata": {},
   "source": [
    ">Choose only 2 nearest neighbors\n",
    ">\n",
    ">Remember, one will be the self"
   ]
  },
  {
   "cell_type": "code",
   "execution_count": 236,
   "id": "c8e84cad-89f9-428d-a504-22661169529b",
   "metadata": {},
   "outputs": [
    {
     "data": {
      "text/plain": [
       "array([[0, 2, 5, 7, 8, 4, 6, 1, 3, 9],\n",
       "       [4, 1, 2, 5, 6, 0, 3, 7, 8, 9],\n",
       "       [7, 0, 2, 4, 1, 5, 6, 3, 8, 9],\n",
       "       [3, 7, 8, 2, 0, 5, 4, 6, 1, 9],\n",
       "       [4, 1, 2, 5, 0, 3, 6, 7, 8, 9],\n",
       "       [5, 0, 6, 4, 1, 3, 2, 7, 8, 9],\n",
       "       [5, 4, 6, 0, 1, 3, 2, 7, 8, 9],\n",
       "       [7, 2, 3, 0, 8, 4, 6, 5, 1, 9],\n",
       "       [0, 3, 8, 7, 2, 5, 6, 4, 1, 9],\n",
       "       [2, 9, 7, 1, 4, 5, 6, 3, 8, 0]])"
      ]
     },
     "execution_count": 236,
     "metadata": {},
     "output_type": "execute_result"
    }
   ],
   "source": [
    "K = 2\n",
    "nearest_partition = np.argpartition(dist_sq, K+1, axis=1)\n",
    "nearest_partition"
   ]
  },
  {
   "cell_type": "code",
   "execution_count": 237,
   "id": "3a060110-6d07-4c88-9031-eccf744be205",
   "metadata": {},
   "outputs": [
    {
     "data": {
      "image/png": "[encoded data removed]",
      "text/plain": [
       "<Figure size 640x480 with 1 Axes>"
      ]
     },
     "metadata": {},
     "output_type": "display_data"
    }
   ],
   "source": [
    "plt.scatter(X[:, 0], X[:, 1], s=100)\n",
    "K=2\n",
    "for i in range(X.shape[0]):\n",
    "    for j in nearest_partition[i, :K+1]:\n",
    "        plt.plot(*zip(X[j], X[i]), color=\"black\")"
   ]
  },
  {
   "cell_type": "markdown",
   "id": "5beef8f6-3055-4699-8128-0d85a61ceb2c",
   "metadata": {},
   "source": [
    "# Structured NumPy Arrays"
   ]
  },
  {
   "cell_type": "code",
   "execution_count": 238,
   "id": "c501d993-d9ce-412d-8b08-53516d2a9856",
   "metadata": {},
   "outputs": [],
   "source": [
    "name = [\"Alice\", \"Igor\", \"Lewella\", \"Baldrick\"]\n",
    "age = [25, 45, 32, 10]\n",
    "weight = [55.0, 45.5, 68.5, 35.2]"
   ]
  },
  {
   "cell_type": "code",
   "execution_count": 239,
   "id": "23fcb120-fd9a-4151-870c-00140aea7763",
   "metadata": {},
   "outputs": [
    {
     "name": "stdout",
     "output_type": "stream",
     "text": [
      "[('name', '<U10'), ('age', '<i4'), ('weight', '<f8')]\n"
     ]
    }
   ],
   "source": [
    "data = np.zeros(4, dtype={'names':('name', 'age', 'weight'),\n",
    "                          'formats':('U10', 'i4', 'f8')})\n",
    "print(data.dtype)"
   ]
  },
  {
   "cell_type": "code",
   "execution_count": 240,
   "id": "8d6a2306-06e5-490e-b0d6-38fd055feaa5",
   "metadata": {},
   "outputs": [
    {
     "name": "stdout",
     "output_type": "stream",
     "text": [
      "[('Alice', 25, 55. ) ('Igor', 45, 45.5) ('Lewella', 32, 68.5)\n",
      " ('Baldrick', 10, 35.2)]\n"
     ]
    }
   ],
   "source": [
    "data['name'] = name\n",
    "data['age'] = age\n",
    "data['weight'] = weight\n",
    "print(data)"
   ]
  },
  {
   "cell_type": "code",
   "execution_count": 241,
   "id": "5561091e-ccb6-4d22-aa68-c1008c70d08e",
   "metadata": {},
   "outputs": [
    {
     "data": {
      "text/plain": [
       "array(['Alice', 'Igor', 'Lewella', 'Baldrick'], dtype='<U10')"
      ]
     },
     "execution_count": 241,
     "metadata": {},
     "output_type": "execute_result"
    }
   ],
   "source": [
    "data['name']"
   ]
  },
  {
   "cell_type": "code",
   "execution_count": 242,
   "id": "5c564683-834a-488f-b27a-d3571425b8fd",
   "metadata": {},
   "outputs": [
    {
     "data": {
      "text/plain": [
       "('Alice', 25, 55.)"
      ]
     },
     "execution_count": 242,
     "metadata": {},
     "output_type": "execute_result"
    }
   ],
   "source": [
    "data[0]"
   ]
  },
  {
   "cell_type": "code",
   "execution_count": 243,
   "id": "b32c269c-7bec-4b4c-b74b-f205f4c09d35",
   "metadata": {},
   "outputs": [
    {
     "data": {
      "text/plain": [
       "'Baldrick'"
      ]
     },
     "execution_count": 243,
     "metadata": {},
     "output_type": "execute_result"
    }
   ],
   "source": [
    "data[-1]['name']"
   ]
  },
  {
   "cell_type": "code",
   "execution_count": 244,
   "id": "c88333ca-b5cd-4421-9bd7-ba931f2f77f2",
   "metadata": {},
   "outputs": [
    {
     "data": {
      "text/plain": [
       "array(['Alice', 'Baldrick'], dtype='<U10')"
      ]
     },
     "execution_count": 244,
     "metadata": {},
     "output_type": "execute_result"
    }
   ],
   "source": [
    "data[data['age'] < 30]['name']"
   ]
  },
  {
   "cell_type": "markdown",
   "id": "9354563b-73ae-4bf3-851c-25ed7a08bdd0",
   "metadata": {},
   "source": [
    ">Structured Arrays"
   ]
  },
  {
   "cell_type": "code",
   "execution_count": 245,
   "id": "19a892ef-d9cf-415a-8c41-47c4af6514d5",
   "metadata": {},
   "outputs": [
    {
     "data": {
      "text/plain": [
       "dtype([('name', '<U10'), ('age', '<i4'), ('weight', '<f8')])"
      ]
     },
     "execution_count": 245,
     "metadata": {},
     "output_type": "execute_result"
    }
   ],
   "source": [
    "np.dtype({'names':('name', 'age', 'weight'),\n",
    "                  'formats':('U10', 'i4', 'f8')})"
   ]
  },
  {
   "cell_type": "code",
   "execution_count": 246,
   "id": "c9a8d825-da64-4afc-8573-f2e9328470a9",
   "metadata": {},
   "outputs": [
    {
     "data": {
      "text/plain": [
       "dtype([('name', '<U10'), ('age', '<i8'), ('weight', '<f4')])"
      ]
     },
     "execution_count": 246,
     "metadata": {},
     "output_type": "execute_result"
    }
   ],
   "source": [
    "np.dtype({'names':('name', 'age', 'weight'),\n",
    "                  'formats':((np.str_, 10), int, np.float32)})"
   ]
  },
  {
   "cell_type": "code",
   "execution_count": 247,
   "id": "bf0ac04a-43cc-4618-98f1-30e7fddd9e9c",
   "metadata": {},
   "outputs": [
    {
     "data": {
      "text/plain": [
       "dtype([('name', 'S10'), ('age', '<i4'), ('weight', '<f8')])"
      ]
     },
     "execution_count": 247,
     "metadata": {},
     "output_type": "execute_result"
    }
   ],
   "source": [
    "np.dtype([('name', 'S10'), ('age', 'i4'), ('weight', 'f8')])"
   ]
  },
  {
   "cell_type": "code",
   "execution_count": 248,
   "id": "31d76965-6530-4547-8fe9-522dc9ebad8e",
   "metadata": {},
   "outputs": [
    {
     "data": {
      "text/plain": [
       "dtype([('f0', 'S10'), ('f1', '<i4'), ('f2', '<f8')])"
      ]
     },
     "execution_count": 248,
     "metadata": {},
     "output_type": "execute_result"
    }
   ],
   "source": [
    "np.dtype('S10,i4,f8')"
   ]
  },
  {
   "cell_type": "markdown",
   "id": "62e022f5-5a9d-4b3e-abfc-d4f6111e9663",
   "metadata": {},
   "source": [
    ">RecordArrays"
   ]
  },
  {
   "cell_type": "code",
   "execution_count": 249,
   "id": "16eee1e5-0cbe-4915-b64b-1a7f090a9387",
   "metadata": {},
   "outputs": [
    {
     "data": {
      "text/plain": [
       "rec.array([('Alice', 25, 55. ), ('Igor', 45, 45.5), ('Lewella', 32, 68.5),\n",
       "           ('Baldrick', 10, 35.2)],\n",
       "          dtype=[('name', '<U10'), ('age', '<i4'), ('weight', '<f8')])"
      ]
     },
     "execution_count": 249,
     "metadata": {},
     "output_type": "execute_result"
    }
   ],
   "source": [
    "data_rec = data.view(np.recarray)\n",
    "data_rec"
   ]
  },
  {
   "cell_type": "code",
   "execution_count": 250,
   "id": "7e0d3052-9987-4f9e-8d6d-88be3be6a340",
   "metadata": {},
   "outputs": [
    {
     "data": {
      "text/plain": [
       "array([25, 45, 32, 10], dtype=int32)"
      ]
     },
     "execution_count": 250,
     "metadata": {},
     "output_type": "execute_result"
    }
   ],
   "source": [
    "data_rec.age"
   ]
  },
  {
   "cell_type": "code",
   "execution_count": 251,
   "id": "099eb031-5ae2-4247-98ae-017dca86374b",
   "metadata": {},
   "outputs": [
    {
     "name": "stdout",
     "output_type": "stream",
     "text": [
      "69.5 ns ± 1.57 ns per loop (mean ± std. dev. of 7 runs, 10,000,000 loops each)\n",
      "1.17 μs ± 8.05 ns per loop (mean ± std. dev. of 7 runs, 1,000,000 loops each)\n",
      "2.58 μs ± 59.4 ns per loop (mean ± std. dev. of 7 runs, 100,000 loops each)\n"
     ]
    }
   ],
   "source": [
    "%timeit data['age']\n",
    "%timeit data_rec['age']\n",
    "%timeit data_rec.age"
   ]
  },
  {
   "cell_type": "code",
   "execution_count": null,
   "id": "19b76906-5cc4-40a7-8634-41b01ebe2a92",
   "metadata": {},
   "outputs": [],
   "source": []
  }
 ],
 "metadata": {
  "kernelspec": {
   "display_name": "Python 3 (ipykernel)",
   "language": "python",
   "name": "python3"
  },
  "language_info": {
   "codemirror_mode": {
    "name": "ipython",
    "version": 3
   },
   "file_extension": ".py",
   "mimetype": "text/x-python",
   "name": "python",
   "nbconvert_exporter": "python",
   "pygments_lexer": "ipython3",
   "version": "3.12.7"
  }
 },
 "nbformat": 4,
 "nbformat_minor": 5
}
