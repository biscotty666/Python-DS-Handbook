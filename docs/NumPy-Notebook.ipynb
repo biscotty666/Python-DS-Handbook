{
 "cells": [
  {
   "cell_type": "markdown",
   "id": "d16bcc6f-f94f-4623-a123-8c54e6f76b18",
   "metadata": {},
   "source": [
    "# Introduction to NumPy"
   ]
  },
  {
   "cell_type": "code",
   "execution_count": 3,
   "id": "25591d91-3657-4403-adb2-90b3ea3ed22f",
   "metadata": {},
   "outputs": [],
   "source": [
    "import numpy as np "
   ]
  },
  {
   "cell_type": "markdown",
   "id": "152e3503-59c5-4511-ae89-8f37229c72b8",
   "metadata": {},
   "source": [
    "# Creating Arrays"
   ]
  },
  {
   "cell_type": "markdown",
   "id": "f0480a7a-e0dc-4006-8bbe-08b9237edb18",
   "metadata": {},
   "source": [
    ">From python lists"
   ]
  },
  {
   "cell_type": "code",
   "execution_count": 4,
   "id": "e0b6ef59-4d08-487e-8f50-b369941da4b8",
   "metadata": {},
   "outputs": [
    {
     "data": {
      "text/plain": [
       "array([1, 5, 4, 9])"
      ]
     },
     "execution_count": 4,
     "metadata": {},
     "output_type": "execute_result"
    }
   ],
   "source": [
    "np.array([1, 5, 4, 9])"
   ]
  },
  {
   "cell_type": "markdown",
   "id": "59913452-f0d3-4a19-ab98-b55c62497fd1",
   "metadata": {},
   "source": [
    "> Explicitly set datatype"
   ]
  },
  {
   "cell_type": "code",
   "execution_count": 7,
   "id": "a959e152-8169-459e-ac67-db47e7e790c9",
   "metadata": {},
   "outputs": [
    {
     "data": {
      "text/plain": [
       "array([1., 5., 4., 9.], dtype=float32)"
      ]
     },
     "execution_count": 7,
     "metadata": {},
     "output_type": "execute_result"
    }
   ],
   "source": [
    "np.array([1, 5, 4, 9], dtype='float32')"
   ]
  },
  {
   "cell_type": "markdown",
   "id": "38a00dbf-badd-4551-9cee-f89e9c8d7c35",
   "metadata": {},
   "source": [
    "> Multidimensional from list of lists"
   ]
  },
  {
   "cell_type": "code",
   "execution_count": 8,
   "id": "05599d66-c2eb-4b42-affe-e3673a821c38",
   "metadata": {},
   "outputs": [
    {
     "data": {
      "text/plain": [
       "array([[2, 3, 4],\n",
       "       [4, 5, 6],\n",
       "       [6, 7, 8]])"
      ]
     },
     "execution_count": 8,
     "metadata": {},
     "output_type": "execute_result"
    }
   ],
   "source": [
    "np.array([range(i, i+3) for i in [2, 4, 6]])"
   ]
  },
  {
   "cell_type": "markdown",
   "id": "f35fea05-a93d-4105-a6a8-94556cfbc3dc",
   "metadata": {},
   "source": [
    "> Arrays of zeros and ones, or constant"
   ]
  },
  {
   "cell_type": "code",
   "execution_count": 9,
   "id": "6b08a863-56cc-4575-9417-b128d024d9c4",
   "metadata": {},
   "outputs": [
    {
     "data": {
      "text/plain": [
       "array([0., 0., 0., 0., 0., 0., 0., 0., 0., 0.])"
      ]
     },
     "execution_count": 9,
     "metadata": {},
     "output_type": "execute_result"
    }
   ],
   "source": [
    "np.zeros(10)"
   ]
  },
  {
   "cell_type": "code",
   "execution_count": 10,
   "id": "055f3e2b-5f85-4e9a-b1b0-8cde6bd8f246",
   "metadata": {},
   "outputs": [
    {
     "data": {
      "text/plain": [
       "array([0, 0, 0, 0, 0, 0, 0, 0, 0, 0])"
      ]
     },
     "execution_count": 10,
     "metadata": {},
     "output_type": "execute_result"
    }
   ],
   "source": [
    "np.zeros(10, dtype=int)"
   ]
  },
  {
   "cell_type": "code",
   "execution_count": 11,
   "id": "b89fed11-ba98-4b89-b68f-38e46a54bbf0",
   "metadata": {},
   "outputs": [
    {
     "data": {
      "text/plain": [
       "array([[1., 1., 1., 1., 1.],\n",
       "       [1., 1., 1., 1., 1.],\n",
       "       [1., 1., 1., 1., 1.]])"
      ]
     },
     "execution_count": 11,
     "metadata": {},
     "output_type": "execute_result"
    }
   ],
   "source": [
    "np.ones((3,5))"
   ]
  },
  {
   "cell_type": "code",
   "execution_count": 18,
   "id": "3f9a001c-fd16-4ce9-9a32-89490d2c7de5",
   "metadata": {},
   "outputs": [
    {
     "data": {
      "text/plain": [
       "array([[1, 1, 1, 1],\n",
       "       [1, 1, 1, 1],\n",
       "       [1, 1, 1, 1]])"
      ]
     },
     "execution_count": 18,
     "metadata": {},
     "output_type": "execute_result"
    }
   ],
   "source": [
    "np.ones((3,4), dtype=int)"
   ]
  },
  {
   "cell_type": "markdown",
   "id": "b95038f0-4723-4ae6-b94f-7913872561bf",
   "metadata": {},
   "source": [
    "> Fill with arbitrary number"
   ]
  },
  {
   "cell_type": "code",
   "execution_count": 19,
   "id": "2e8758a9-1007-4fd4-86d6-1e6904711e01",
   "metadata": {},
   "outputs": [
    {
     "data": {
      "text/plain": [
       "array([[3.14, 3.14, 3.14],\n",
       "       [3.14, 3.14, 3.14],\n",
       "       [3.14, 3.14, 3.14]])"
      ]
     },
     "execution_count": 19,
     "metadata": {},
     "output_type": "execute_result"
    }
   ],
   "source": [
    "np.full((3,3), 3.14)"
   ]
  },
  {
   "cell_type": "markdown",
   "id": "0e847722-6a32-4dd3-8e09-aa8841507d47",
   "metadata": {},
   "source": [
    "> Linear sequence"
   ]
  },
  {
   "cell_type": "code",
   "execution_count": 22,
   "id": "151fc824-46fb-411a-bebf-80adbf07b232",
   "metadata": {},
   "outputs": [
    {
     "data": {
      "text/plain": [
       "array([ 0,  2,  4,  6,  8, 10, 12, 14, 16, 18])"
      ]
     },
     "execution_count": 22,
     "metadata": {},
     "output_type": "execute_result"
    }
   ],
   "source": [
    "np.arange(0, 20, 2)"
   ]
  },
  {
   "cell_type": "code",
   "execution_count": 21,
   "id": "08070f85-e56e-4d9a-9f7f-cb3d578a465f",
   "metadata": {},
   "outputs": [
    {
     "data": {
      "text/plain": [
       "array([0.  , 0.25, 0.5 , 0.75, 1.  ])"
      ]
     },
     "execution_count": 21,
     "metadata": {},
     "output_type": "execute_result"
    }
   ],
   "source": [
    "np.linspace(0, 1, 5)"
   ]
  },
  {
   "cell_type": "markdown",
   "id": "db13fdc7-89b4-42b4-a772-fb40b7de817f",
   "metadata": {},
   "source": [
    "# NumPy Array Attributes"
   ]
  },
  {
   "cell_type": "code",
   "execution_count": 23,
   "id": "3144ba59-9533-493f-a761-8e42d1414922",
   "metadata": {},
   "outputs": [],
   "source": [
    "np.random.seed(0)\n",
    "\n",
    "x1 = np.random.randint(10, size=6)\n",
    "x2 = np.random.randint(10, size=(3,4))\n",
    "x3 = np.random.randint(10, size=(3,4,5))"
   ]
  },
  {
   "cell_type": "code",
   "execution_count": 24,
   "id": "bf1a853c-f699-45bd-9569-c340acbbde04",
   "metadata": {},
   "outputs": [
    {
     "data": {
      "text/plain": [
       "array([[[8, 1, 5, 9, 8],\n",
       "        [9, 4, 3, 0, 3],\n",
       "        [5, 0, 2, 3, 8],\n",
       "        [1, 3, 3, 3, 7]],\n",
       "\n",
       "       [[0, 1, 9, 9, 0],\n",
       "        [4, 7, 3, 2, 7],\n",
       "        [2, 0, 0, 4, 5],\n",
       "        [5, 6, 8, 4, 1]],\n",
       "\n",
       "       [[4, 9, 8, 1, 1],\n",
       "        [7, 9, 9, 3, 6],\n",
       "        [7, 2, 0, 3, 5],\n",
       "        [9, 4, 4, 6, 4]]])"
      ]
     },
     "execution_count": 24,
     "metadata": {},
     "output_type": "execute_result"
    }
   ],
   "source": [
    "x3"
   ]
  },
  {
   "cell_type": "code",
   "execution_count": 25,
   "id": "32f2472e-5546-48e7-8d07-3f6baf3df158",
   "metadata": {},
   "outputs": [
    {
     "data": {
      "text/plain": [
       "array([5, 0, 3, 3, 7, 9])"
      ]
     },
     "execution_count": 25,
     "metadata": {},
     "output_type": "execute_result"
    }
   ],
   "source": [
    "x1"
   ]
  },
  {
   "cell_type": "code",
   "execution_count": 26,
   "id": "452d43ff-daf8-46ba-9512-8d75937154d4",
   "metadata": {},
   "outputs": [
    {
     "data": {
      "text/plain": [
       "array([[3, 5, 2, 4],\n",
       "       [7, 6, 8, 8],\n",
       "       [1, 6, 7, 7]])"
      ]
     },
     "execution_count": 26,
     "metadata": {},
     "output_type": "execute_result"
    }
   ],
   "source": [
    "x2"
   ]
  },
  {
   "cell_type": "code",
   "execution_count": 36,
   "id": "e9254e36-9138-472f-9e01-97cc28f9a3d7",
   "metadata": {},
   "outputs": [
    {
     "name": "stdout",
     "output_type": "stream",
     "text": [
      "x0\n",
      "\t ndim: 1\n",
      "\t shape: (6,)\n",
      "\t size: 6\n",
      "\t dtype: int64\n",
      "\t item size: 8\n",
      "\t total size: 48\n",
      "x1\n",
      "\t ndim: 2\n",
      "\t shape: (3, 4)\n",
      "\t size: 12\n",
      "\t dtype: int64\n",
      "\t item size: 8\n",
      "\t total size: 96\n",
      "x2\n",
      "\t ndim: 3\n",
      "\t shape: (3, 4, 5)\n",
      "\t size: 60\n",
      "\t dtype: int64\n",
      "\t item size: 8\n",
      "\t total size: 480\n"
     ]
    }
   ],
   "source": [
    "for (index, array) in enumerate([x1,x2,x3]):\n",
    "    print(f\"x{index}\")\n",
    "    print(f\"\\t ndim: {array.ndim}\")\n",
    "    print(f\"\\t shape: {array.shape}\")\n",
    "    print(f\"\\t size: {array.size}\")\n",
    "    print(f\"\\t dtype: {array.dtype}\")\n",
    "    print(f\"\\t item size: {array.itemsize}\")\n",
    "    print(f\"\\t total size: {array.nbytes}\")"
   ]
  },
  {
   "cell_type": "markdown",
   "id": "00afd064-534f-42b8-9269-dd05a6930948",
   "metadata": {},
   "source": [
    "# Indexing Arrays"
   ]
  },
  {
   "cell_type": "code",
   "execution_count": 37,
   "id": "55d30fac-d6c8-430c-a785-88b8c4817c9e",
   "metadata": {},
   "outputs": [
    {
     "data": {
      "text/plain": [
       "array([5, 0, 3, 3, 7, 9])"
      ]
     },
     "execution_count": 37,
     "metadata": {},
     "output_type": "execute_result"
    }
   ],
   "source": [
    "x1"
   ]
  },
  {
   "cell_type": "code",
   "execution_count": 41,
   "id": "d6deb667-82d8-4f1d-84f6-2cfd85590a0c",
   "metadata": {},
   "outputs": [
    {
     "data": {
      "text/plain": [
       "(5, 9)"
      ]
     },
     "execution_count": 41,
     "metadata": {},
     "output_type": "execute_result"
    }
   ],
   "source": [
    "x1[0], x1[-1]"
   ]
  },
  {
   "cell_type": "code",
   "execution_count": 42,
   "id": "0c5f78bb-afab-4afb-a61f-97256a0b6625",
   "metadata": {},
   "outputs": [
    {
     "data": {
      "text/plain": [
       "array([[3, 5, 2, 4],\n",
       "       [7, 6, 8, 8],\n",
       "       [1, 6, 7, 7]])"
      ]
     },
     "execution_count": 42,
     "metadata": {},
     "output_type": "execute_result"
    }
   ],
   "source": [
    "x2"
   ]
  },
  {
   "cell_type": "code",
   "execution_count": 47,
   "id": "ea14068c-8433-4178-86ca-ec6fa810105f",
   "metadata": {},
   "outputs": [
    {
     "data": {
      "text/plain": [
       "(6, 1)"
      ]
     },
     "execution_count": 47,
     "metadata": {},
     "output_type": "execute_result"
    }
   ],
   "source": [
    "x2[2,1], x2[-1,-4]"
   ]
  },
  {
   "cell_type": "code",
   "execution_count": 46,
   "id": "540ec1a7-9482-4c56-81fc-6fd8946ffa93",
   "metadata": {},
   "outputs": [
    {
     "data": {
      "text/plain": [
       "6"
      ]
     },
     "execution_count": 46,
     "metadata": {},
     "output_type": "execute_result"
    }
   ],
   "source": [
    "x2[2,1]"
   ]
  },
  {
   "cell_type": "code",
   "execution_count": 48,
   "id": "5e1380a5-528b-483f-aee2-30b089dc3e26",
   "metadata": {},
   "outputs": [],
   "source": [
    "x2[-1,-1] = 9"
   ]
  },
  {
   "cell_type": "code",
   "execution_count": 49,
   "id": "bb425142-97ca-40b6-abb1-acb9f12462c2",
   "metadata": {},
   "outputs": [
    {
     "data": {
      "text/plain": [
       "array([[3, 5, 2, 4],\n",
       "       [7, 6, 8, 8],\n",
       "       [1, 6, 7, 9]])"
      ]
     },
     "execution_count": 49,
     "metadata": {},
     "output_type": "execute_result"
    }
   ],
   "source": [
    "x2"
   ]
  },
  {
   "cell_type": "markdown",
   "id": "71df8f7c-771e-423e-801a-6e4cc8699b9b",
   "metadata": {},
   "source": [
    ">[!attention] NumPy arrays are fixed type so conversion may be necessary"
   ]
  },
  {
   "cell_type": "markdown",
   "id": "d60dc2d1-a5f1-4624-af6f-7a9eadda6595",
   "metadata": {},
   "source": [
    "# Slicing arrays"
   ]
  },
  {
   "cell_type": "markdown",
   "id": "85d75eb1-6f3e-4669-a1e6-01f74b01a8a3",
   "metadata": {},
   "source": [
    ">[!warning] Slices are views, so you may or may not want to `.copy()`"
   ]
  },
  {
   "cell_type": "markdown",
   "id": "9a945676-ef93-4f34-9365-b326904d5689",
   "metadata": {},
   "source": [
    ">Basic syntax\n",
    ">`x[start:stop:step]`"
   ]
  },
  {
   "cell_type": "code",
   "execution_count": 50,
   "id": "9275c03a-0246-4e73-9f37-18c73045d530",
   "metadata": {},
   "outputs": [],
   "source": [
    "x = np.arange(10)"
   ]
  },
  {
   "cell_type": "code",
   "execution_count": 53,
   "id": "6a733206-24a8-44ad-9b3b-047bcbfe0584",
   "metadata": {},
   "outputs": [
    {
     "data": {
      "text/plain": [
       "(array([0, 1, 2, 3, 4]), array([5, 6, 7, 8, 9]), array([2, 3]))"
      ]
     },
     "execution_count": 53,
     "metadata": {},
     "output_type": "execute_result"
    }
   ],
   "source": [
    "x[:5], x[5:], x[2:4]"
   ]
  },
  {
   "cell_type": "code",
   "execution_count": 54,
   "id": "a2e93ed1-5a13-42a2-9e22-500117a6187b",
   "metadata": {},
   "outputs": [
    {
     "data": {
      "text/plain": [
       "(array([0, 2, 4, 6, 8]), array([3, 5, 7, 9]))"
      ]
     },
     "execution_count": 54,
     "metadata": {},
     "output_type": "execute_result"
    }
   ],
   "source": [
    "x[::2], x[3::2]"
   ]
  },
  {
   "cell_type": "code",
   "execution_count": 58,
   "id": "381fc7da-20e6-408f-bb6a-b4dc9feb01ec",
   "metadata": {},
   "outputs": [
    {
     "data": {
      "text/plain": [
       "(array([9, 7, 5, 3, 1]), array([5, 3, 1]), array([5, 7, 9]))"
      ]
     },
     "execution_count": 58,
     "metadata": {},
     "output_type": "execute_result"
    }
   ],
   "source": [
    "x[::-2], x[-5::-2], x[-5::2]"
   ]
  },
  {
   "cell_type": "markdown",
   "id": "41530091-fda7-40c6-aafb-218c45248564",
   "metadata": {},
   "source": [
    ">Reverse an array"
   ]
  },
  {
   "cell_type": "code",
   "execution_count": 59,
   "id": "654b5373-77c3-4959-b145-4d5c1da0c36b",
   "metadata": {},
   "outputs": [
    {
     "data": {
      "text/plain": [
       "array([9, 8, 7, 6, 5, 4, 3, 2, 1, 0])"
      ]
     },
     "execution_count": 59,
     "metadata": {},
     "output_type": "execute_result"
    }
   ],
   "source": [
    "x[::-1]"
   ]
  },
  {
   "cell_type": "code",
   "execution_count": 70,
   "id": "999f24c8-6e6e-4613-bc2b-71c5326a76d9",
   "metadata": {},
   "outputs": [],
   "source": [
    "x4 = np.random.randint(10, size=(4,4))"
   ]
  },
  {
   "cell_type": "code",
   "execution_count": 71,
   "id": "b920e3b5-a952-45dd-9aeb-7adb92141b98",
   "metadata": {},
   "outputs": [
    {
     "data": {
      "text/plain": [
       "array([[2, 0, 3, 2],\n",
       "       [0, 7, 5, 9],\n",
       "       [0, 2, 7, 2],\n",
       "       [9, 2, 3, 3]])"
      ]
     },
     "execution_count": 71,
     "metadata": {},
     "output_type": "execute_result"
    }
   ],
   "source": [
    "x4"
   ]
  },
  {
   "cell_type": "code",
   "execution_count": 72,
   "id": "4ee6d681-4f9e-44f5-96bf-a29e408fa9aa",
   "metadata": {},
   "outputs": [
    {
     "data": {
      "text/plain": [
       "(array([[9, 2, 3, 3],\n",
       "        [0, 2, 7, 2],\n",
       "        [0, 7, 5, 9],\n",
       "        [2, 0, 3, 2]]),\n",
       " array([[2, 3, 0, 2],\n",
       "        [9, 5, 7, 0],\n",
       "        [2, 7, 2, 0],\n",
       "        [3, 3, 2, 9]]),\n",
       " array([[3, 3, 2, 9],\n",
       "        [2, 7, 2, 0],\n",
       "        [9, 5, 7, 0],\n",
       "        [2, 3, 0, 2]]))"
      ]
     },
     "execution_count": 72,
     "metadata": {},
     "output_type": "execute_result"
    }
   ],
   "source": [
    "x4[::-1], x4[:,::-1], x4[::-1,::-1]"
   ]
  },
  {
   "cell_type": "code",
   "execution_count": 73,
   "id": "10adcea1-8b1c-4e49-8732-a3cd173d3fcf",
   "metadata": {},
   "outputs": [
    {
     "data": {
      "text/plain": [
       "array([[2, 0, 0, 9],\n",
       "       [0, 7, 2, 2],\n",
       "       [3, 5, 7, 3],\n",
       "       [2, 9, 2, 3]])"
      ]
     },
     "execution_count": 73,
     "metadata": {},
     "output_type": "execute_result"
    }
   ],
   "source": [
    "x4.T"
   ]
  },
  {
   "cell_type": "code",
   "execution_count": 75,
   "id": "81bbff86-e2a9-401a-a809-dcc9e00ed282",
   "metadata": {},
   "outputs": [
    {
     "data": {
      "text/plain": [
       "array([[2, 0, 3, 2],\n",
       "       [0, 7, 5, 9],\n",
       "       [0, 2, 7, 2],\n",
       "       [9, 2, 3, 3]])"
      ]
     },
     "execution_count": 75,
     "metadata": {},
     "output_type": "execute_result"
    }
   ],
   "source": [
    "x4"
   ]
  },
  {
   "cell_type": "code",
   "execution_count": 76,
   "id": "80748f76-15dd-4a2c-80ff-7028c320e5cd",
   "metadata": {},
   "outputs": [
    {
     "data": {
      "text/plain": [
       "(array([2, 0, 3, 2]), array([2, 0, 3, 2]), array([2, 0, 0, 9]))"
      ]
     },
     "execution_count": 76,
     "metadata": {},
     "output_type": "execute_result"
    }
   ],
   "source": [
    "x4[0], x4[0,:], x4[:,0]"
   ]
  },
  {
   "cell_type": "markdown",
   "id": "12f03594-e5a1-4c08-ba73-a4dac454d155",
   "metadata": {},
   "source": [
    "# Reshaping Arrays"
   ]
  },
  {
   "cell_type": "code",
   "execution_count": 81,
   "id": "a9e77491-872a-4ea0-b271-c6157bffeb78",
   "metadata": {},
   "outputs": [
    {
     "data": {
      "text/plain": [
       "array([[9, 1, 4, 6],\n",
       "       [8, 2, 3, 0],\n",
       "       [0, 6, 0, 6]])"
      ]
     },
     "execution_count": 81,
     "metadata": {},
     "output_type": "execute_result"
    }
   ],
   "source": [
    "x2 = np.random.randint(10,size=(3,4))\n",
    "x2"
   ]
  },
  {
   "cell_type": "code",
   "execution_count": 83,
   "id": "f819ce9b-f653-4fc8-8896-9c1875c08304",
   "metadata": {},
   "outputs": [
    {
     "data": {
      "text/plain": [
       "array([[9, 1, 4],\n",
       "       [6, 8, 2],\n",
       "       [3, 0, 0],\n",
       "       [6, 0, 6]])"
      ]
     },
     "execution_count": 83,
     "metadata": {},
     "output_type": "execute_result"
    }
   ],
   "source": [
    "x2.reshape(4,3)"
   ]
  },
  {
   "cell_type": "code",
   "execution_count": 85,
   "id": "49205499-14a9-4c8e-8bf9-424c091d200a",
   "metadata": {},
   "outputs": [
    {
     "data": {
      "text/plain": [
       "array([[1, 2, 3],\n",
       "       [4, 5, 6],\n",
       "       [7, 8, 9]])"
      ]
     },
     "execution_count": 85,
     "metadata": {},
     "output_type": "execute_result"
    }
   ],
   "source": [
    "grid = np.arange(1, 10).reshape((3,3))\n",
    "grid"
   ]
  },
  {
   "cell_type": "markdown",
   "id": "3a7a2f32-4f1d-4c61-93cb-4bfb45b22808",
   "metadata": {},
   "source": [
    ">Array to row vector"
   ]
  },
  {
   "cell_type": "code",
   "execution_count": 86,
   "id": "39dbd8f2-e894-41bf-9250-c4449ff193ba",
   "metadata": {},
   "outputs": [
    {
     "data": {
      "text/plain": [
       "array([1, 2, 3])"
      ]
     },
     "execution_count": 86,
     "metadata": {},
     "output_type": "execute_result"
    }
   ],
   "source": [
    "x = np.array([1,2,3])\n",
    "x"
   ]
  },
  {
   "cell_type": "code",
   "execution_count": 87,
   "id": "4b46021a-97a1-445a-a29f-cc99c65dc4c4",
   "metadata": {},
   "outputs": [
    {
     "data": {
      "text/plain": [
       "array([[1, 2, 3]])"
      ]
     },
     "execution_count": 87,
     "metadata": {},
     "output_type": "execute_result"
    }
   ],
   "source": [
    "x.reshape((1,3))"
   ]
  },
  {
   "cell_type": "code",
   "execution_count": 88,
   "id": "45917c36-9b6e-46d2-91dd-5787396a6ea2",
   "metadata": {},
   "outputs": [
    {
     "data": {
      "text/plain": [
       "array([[1, 2, 3]])"
      ]
     },
     "execution_count": 88,
     "metadata": {},
     "output_type": "execute_result"
    }
   ],
   "source": [
    "x[np.newaxis, :]"
   ]
  },
  {
   "cell_type": "markdown",
   "id": "38aaa538-faab-4c91-97a9-ee00073eaca0",
   "metadata": {},
   "source": [
    ">Array to column vector"
   ]
  },
  {
   "cell_type": "code",
   "execution_count": 89,
   "id": "30876093-758a-4eef-8458-fe90104a05dd",
   "metadata": {},
   "outputs": [
    {
     "data": {
      "text/plain": [
       "array([[1],\n",
       "       [2],\n",
       "       [3]])"
      ]
     },
     "execution_count": 89,
     "metadata": {},
     "output_type": "execute_result"
    }
   ],
   "source": [
    "x.reshape((3,1))"
   ]
  },
  {
   "cell_type": "code",
   "execution_count": 90,
   "id": "23103a3d-679f-4c91-9b47-83e773fbb48b",
   "metadata": {},
   "outputs": [
    {
     "data": {
      "text/plain": [
       "array([[1],\n",
       "       [2],\n",
       "       [3]])"
      ]
     },
     "execution_count": 90,
     "metadata": {},
     "output_type": "execute_result"
    }
   ],
   "source": [
    "x[:, np.newaxis]"
   ]
  },
  {
   "cell_type": "markdown",
   "id": "8d847127-9d01-4f2b-90f4-cabd68e3f372",
   "metadata": {},
   "source": [
    "# Array Concatenation and Splitting"
   ]
  },
  {
   "cell_type": "code",
   "execution_count": 91,
   "id": "6f66d3db-09ee-4c5b-992f-f0b90f1b0589",
   "metadata": {},
   "outputs": [],
   "source": [
    "x = np.array([1,2,3])\n",
    "y = np.array([3,2,1])"
   ]
  },
  {
   "cell_type": "code",
   "execution_count": 92,
   "id": "bd702a9f-41b3-4c51-95c4-077ece24a386",
   "metadata": {},
   "outputs": [
    {
     "data": {
      "text/plain": [
       "array([1, 2, 3, 3, 2, 1])"
      ]
     },
     "execution_count": 92,
     "metadata": {},
     "output_type": "execute_result"
    }
   ],
   "source": [
    "np.concatenate([x,y])"
   ]
  },
  {
   "cell_type": "code",
   "execution_count": 93,
   "id": "2351ef84-1037-4504-9d0d-90613fe4833d",
   "metadata": {},
   "outputs": [
    {
     "data": {
      "text/plain": [
       "array([1, 2, 3, 3, 2, 1, 1, 2, 3])"
      ]
     },
     "execution_count": 93,
     "metadata": {},
     "output_type": "execute_result"
    }
   ],
   "source": [
    "np.concatenate([x,y,x])"
   ]
  },
  {
   "cell_type": "code",
   "execution_count": 94,
   "id": "34f6fa2c-bcfe-4a6b-b31d-3148d40d826d",
   "metadata": {},
   "outputs": [
    {
     "data": {
      "text/plain": [
       "array([[1, 2, 3],\n",
       "       [3, 2, 1]])"
      ]
     },
     "execution_count": 94,
     "metadata": {},
     "output_type": "execute_result"
    }
   ],
   "source": [
    "np.array([x,y])"
   ]
  },
  {
   "cell_type": "code",
   "execution_count": 95,
   "id": "da9d0b23-242a-4aaf-aaeb-1b1856211a73",
   "metadata": {},
   "outputs": [
    {
     "data": {
      "text/plain": [
       "array([[1, 2, 3],\n",
       "       [4, 5, 6]])"
      ]
     },
     "execution_count": 95,
     "metadata": {},
     "output_type": "execute_result"
    }
   ],
   "source": [
    "grid = np.array([[1,2,3],[4,5,6]])\n",
    "grid"
   ]
  },
  {
   "cell_type": "code",
   "execution_count": 96,
   "id": "6fb19ffd-258a-42cb-b550-1031183a0943",
   "metadata": {},
   "outputs": [
    {
     "data": {
      "text/plain": [
       "array([[1, 2, 3],\n",
       "       [4, 5, 6],\n",
       "       [1, 2, 3],\n",
       "       [4, 5, 6]])"
      ]
     },
     "execution_count": 96,
     "metadata": {},
     "output_type": "execute_result"
    }
   ],
   "source": [
    "np.concatenate([grid, grid])"
   ]
  },
  {
   "cell_type": "code",
   "execution_count": 97,
   "id": "d4433941-00e3-4da0-9f6d-50a38d9c5342",
   "metadata": {},
   "outputs": [
    {
     "data": {
      "text/plain": [
       "array([[1, 2, 3, 1, 2, 3],\n",
       "       [4, 5, 6, 4, 5, 6]])"
      ]
     },
     "execution_count": 97,
     "metadata": {},
     "output_type": "execute_result"
    }
   ],
   "source": [
    "np.concatenate([grid,grid], axis=1)"
   ]
  },
  {
   "cell_type": "markdown",
   "id": "54efc76b-322d-4b3e-8c3e-8a9706478296",
   "metadata": {},
   "source": [
    ">`vstack` and `hstack`"
   ]
  },
  {
   "cell_type": "code",
   "execution_count": 98,
   "id": "06bf82aa-70d9-4883-bc1e-0ff16a061913",
   "metadata": {},
   "outputs": [],
   "source": [
    "x = np.array([1,2,3])\n",
    "grid = np.array([[9,8,7],\n",
    "                 [6,5,4]])"
   ]
  },
  {
   "cell_type": "code",
   "execution_count": 99,
   "id": "43b476d3-8ce4-41be-8e86-3add463356af",
   "metadata": {},
   "outputs": [
    {
     "data": {
      "text/plain": [
       "array([[1, 2, 3],\n",
       "       [9, 8, 7],\n",
       "       [6, 5, 4]])"
      ]
     },
     "execution_count": 99,
     "metadata": {},
     "output_type": "execute_result"
    }
   ],
   "source": [
    "np.vstack([x, grid])"
   ]
  },
  {
   "cell_type": "code",
   "execution_count": 100,
   "id": "84f9e7d4-bb42-49ac-98ff-901e5dc8da19",
   "metadata": {},
   "outputs": [
    {
     "data": {
      "text/plain": [
       "array([[99],\n",
       "       [99]])"
      ]
     },
     "execution_count": 100,
     "metadata": {},
     "output_type": "execute_result"
    }
   ],
   "source": [
    "y = np.array([[99],[99]])\n",
    "y"
   ]
  },
  {
   "cell_type": "code",
   "execution_count": 102,
   "id": "a7b8598d-0033-4e57-8d33-c1314aa4e001",
   "metadata": {},
   "outputs": [
    {
     "data": {
      "text/plain": [
       "array([[ 9,  8,  7, 99],\n",
       "       [ 6,  5,  4, 99]])"
      ]
     },
     "execution_count": 102,
     "metadata": {},
     "output_type": "execute_result"
    }
   ],
   "source": [
    "np.hstack([grid, y])"
   ]
  },
  {
   "cell_type": "markdown",
   "id": "f217681d-876f-49e3-b6c1-3a1fd87aa3c5",
   "metadata": {},
   "source": [
    ">Splitting arrays"
   ]
  },
  {
   "cell_type": "code",
   "execution_count": 103,
   "id": "df92dc7b-e48b-4caf-8204-87bfccd31d1a",
   "metadata": {},
   "outputs": [
    {
     "data": {
      "text/plain": [
       "array([[ 0,  1,  2,  3],\n",
       "       [ 4,  5,  6,  7],\n",
       "       [ 8,  9, 10, 11],\n",
       "       [12, 13, 14, 15]])"
      ]
     },
     "execution_count": 103,
     "metadata": {},
     "output_type": "execute_result"
    }
   ],
   "source": [
    "x = [1, 2, 3, 99, 99, 3, 2, 1]\n",
    "grid = np.arange(16).reshape((4,4))\n",
    "grid"
   ]
  },
  {
   "cell_type": "code",
   "execution_count": 105,
   "id": "78ba5e06-a02a-4a8e-b76e-ff7b45e8fb37",
   "metadata": {},
   "outputs": [
    {
     "name": "stdout",
     "output_type": "stream",
     "text": [
      "[1, 2, 3, 99, 99, 3, 2, 1] [1 2 3] [99 99] [3 2 1]\n"
     ]
    }
   ],
   "source": [
    "x1, x2, x3 = np.split(x, [3,5])\n",
    "print(x, x1, x2, x3)"
   ]
  },
  {
   "cell_type": "code",
   "execution_count": 107,
   "id": "6a103f79-3c72-4e03-ba7c-078ad91ad004",
   "metadata": {},
   "outputs": [
    {
     "name": "stdout",
     "output_type": "stream",
     "text": [
      "Upper:\n",
      " [[0 1 2 3]\n",
      " [4 5 6 7]]\n",
      "Lower:\n",
      " [[ 8  9 10 11]\n",
      " [12 13 14 15]]\n"
     ]
    }
   ],
   "source": [
    "upper, lower = np.vsplit(grid, [2])\n",
    "print(f\"Upper:\\n {upper}\")\n",
    "print(f\"Lower:\\n {lower}\")"
   ]
  },
  {
   "cell_type": "code",
   "execution_count": 109,
   "id": "f0962c8f-e05e-43d1-8887-4678cdfceebf",
   "metadata": {},
   "outputs": [
    {
     "name": "stdout",
     "output_type": "stream",
     "text": [
      "Left:\n",
      "[[ 0  1]\n",
      " [ 4  5]\n",
      " [ 8  9]\n",
      " [12 13]]\n",
      "Right:\n",
      "[[ 2  3]\n",
      " [ 6  7]\n",
      " [10 11]\n",
      " [14 15]]\n"
     ]
    }
   ],
   "source": [
    "left, right = np.hsplit(grid, [2])\n",
    "print(f\"Left:\\n{left}\")\n",
    "print(f\"Right:\\n{right}\")"
   ]
  },
  {
   "cell_type": "markdown",
   "id": "19f8b562-2e3c-49ef-bc41-75860258e2bb",
   "metadata": {},
   "source": [
    "# Array computation: Universal Functions"
   ]
  },
  {
   "cell_type": "code",
   "execution_count": null,
   "id": "70fc45ac-8cfc-49ce-8a10-77957cc9c1e6",
   "metadata": {},
   "outputs": [],
   "source": [
    "import numpy as np \n",
    "np.random.seed(0)"
   ]
  },
  {
   "cell_type": "markdown",
   "id": "5ac78350-3117-4c8c-a298-f313a06cc42b",
   "metadata": {},
   "source": [
    ">Slow calculations with regular CPython"
   ]
  },
  {
   "cell_type": "code",
   "execution_count": null,
   "id": "b9ccbf84-3efb-43f4-aaff-5e1fa4a1bea8",
   "metadata": {},
   "outputs": [
    {
     "data": {
      "text/plain": [
       "array([0.16666667, 1.        , 0.25      , 0.25      , 0.125     ])"
      ]
     },
     "execution_count": 110,
     "metadata": {},
     "output_type": "execute_result"
    }
   ],
   "source": [
    "def compute_reciprocals(values): \n",
    "    output = np.empty(len(values))\n",
    "    for i in range(len(values)):\n",
    "        output[i] = 1.0 / values[i]\n",
    "    return output\n",
    "\n",
    "values = np.random.randint(1, 10, size=5)\n",
    "compute_reciprocals(values)"
   ]
  },
  {
   "cell_type": "code",
   "execution_count": 116,
   "id": "31efe79f-1be4-4d71-a972-dbf8361d88e2",
   "metadata": {},
   "outputs": [
    {
     "name": "stdout",
     "output_type": "stream",
     "text": [
      "1.2 s ± 17.9 ms per loop (mean ± std. dev. of 7 runs, 1 loop each)\n"
     ]
    }
   ],
   "source": [
    "big_array = np.random.randint(1, 100, size=int(1e6))\n",
    "%timeit compute_reciprocals(big_array)"
   ]
  },
  {
   "cell_type": "code",
   "execution_count": 117,
   "id": "e05e7647-6faf-4351-a952-303c11f6c789",
   "metadata": {},
   "outputs": [
    {
     "name": "stdout",
     "output_type": "stream",
     "text": [
      "[0.16666667 1.         0.25       0.25       0.125     ]\n",
      "[0.16666667 1.         0.25       0.25       0.125     ]\n"
     ]
    }
   ],
   "source": [
    "print(compute_reciprocals(values))\n",
    "print(1.0 / values)"
   ]
  },
  {
   "cell_type": "code",
   "execution_count": 119,
   "id": "593f3272-3633-46ac-8956-b91b146877ef",
   "metadata": {},
   "outputs": [
    {
     "name": "stdout",
     "output_type": "stream",
     "text": [
      "1.05 ms ± 15.3 μs per loop (mean ± std. dev. of 7 runs, 1,000 loops each)\n"
     ]
    }
   ],
   "source": [
    "%timeit (1.0 / big_array)"
   ]
  },
  {
   "cell_type": "code",
   "execution_count": 122,
   "id": "b6ed7038-ebdb-4354-9212-e1a82c3498ef",
   "metadata": {},
   "outputs": [
    {
     "data": {
      "text/plain": [
       "array([0.        , 0.5       , 0.66666667, 0.75      , 0.8       ])"
      ]
     },
     "execution_count": 122,
     "metadata": {},
     "output_type": "execute_result"
    }
   ],
   "source": [
    "np.arange(5) / np.arange(1, 6)"
   ]
  },
  {
   "cell_type": "code",
   "execution_count": 123,
   "id": "65cc32ca-7ac7-45a9-963f-72ef9cd40098",
   "metadata": {},
   "outputs": [
    {
     "data": {
      "text/plain": [
       "array([[  1,   2,   4],\n",
       "       [  8,  16,  32],\n",
       "       [ 64, 128, 256]])"
      ]
     },
     "execution_count": 123,
     "metadata": {},
     "output_type": "execute_result"
    }
   ],
   "source": [
    "x = np.arange(9).reshape((3,3))\n",
    "2 ** x"
   ]
  },
  {
   "cell_type": "markdown",
   "id": "8652f34d-7cec-4118-9c98-1560de0ad75a",
   "metadata": {},
   "source": [
    ">Arithmetic\n",
    ">\n",
    ">These are equivalent to, eg. `np.add()` or `np.divide()`"
   ]
  },
  {
   "cell_type": "code",
   "execution_count": 129,
   "id": "d8117700-9ada-4c51-b859-e78a0b5073e8",
   "metadata": {},
   "outputs": [
    {
     "name": "stdout",
     "output_type": "stream",
     "text": [
      "x + 5 \t= [5 6 7 8]\n",
      "x - 5 \t= [-5 -4 -3 -2]\n",
      "x * 2 \t= [0 2 4 6]\n",
      "x / 2 \t= [0.  0.5 1.  1.5]\n",
      "x // 2 \t= [0 0 1 1]\n",
      "x ** 2 \t= [0 1 4 9]\n",
      "x % 2 \t= [0 1 0 1]\n"
     ]
    }
   ],
   "source": [
    "x = np.arange(4)\n",
    "print(f\"x + 5 \\t= {x + 5}\")\n",
    "print(f\"x - 5 \\t= {x - 5}\")\n",
    "print(f\"x * 2 \\t= {x * 2}\")\n",
    "print(f\"x / 2 \\t= {x / 2}\")\n",
    "print(f\"x // 2 \\t= {x // 2}\")\n",
    "print(f\"x ** 2 \\t= {x ** 2}\")\n",
    "print(f\"x % 2 \\t= {x % 2}\")"
   ]
  },
  {
   "cell_type": "code",
   "execution_count": 125,
   "id": "12f5d320-2623-4ba7-808a-116f7c935fbb",
   "metadata": {},
   "outputs": [
    {
     "data": {
      "text/plain": [
       "array([-5, -4, -3, -2])"
      ]
     },
     "execution_count": 125,
     "metadata": {},
     "output_type": "execute_result"
    }
   ],
   "source": [
    "x - 5"
   ]
  },
  {
   "cell_type": "code",
   "execution_count": 130,
   "id": "bfc87d68-b2f5-4313-bbe2-672208843520",
   "metadata": {},
   "outputs": [
    {
     "data": {
      "text/plain": [
       "array([-1.  , -2.25, -4.  , -6.25])"
      ]
     },
     "execution_count": 130,
     "metadata": {},
     "output_type": "execute_result"
    }
   ],
   "source": [
    "-(0.5*x + 1) **2"
   ]
  },
  {
   "cell_type": "markdown",
   "id": "c0562db1-0501-4e90-b858-9214e884917e",
   "metadata": {},
   "source": [
    ">Absolute value\n",
    ">can use `abs()` or `np.absolute()`, with an alias of `np.abs()`"
   ]
  },
  {
   "cell_type": "code",
   "execution_count": 131,
   "id": "e68238ce-98e7-4ac3-b3c0-910dad0a9832",
   "metadata": {},
   "outputs": [
    {
     "data": {
      "text/plain": [
       "array([2, 1, 0, 1, 2])"
      ]
     },
     "execution_count": 131,
     "metadata": {},
     "output_type": "execute_result"
    }
   ],
   "source": [
    "x = np.array([-2, -1, 0, 1, 2])\n",
    "abs(x)"
   ]
  },
  {
   "cell_type": "code",
   "execution_count": 132,
   "id": "4be9e3e0-dbe7-4212-a927-4e7442532e31",
   "metadata": {},
   "outputs": [
    {
     "data": {
      "text/plain": [
       "array([2, 1, 0, 1, 2])"
      ]
     },
     "execution_count": 132,
     "metadata": {},
     "output_type": "execute_result"
    }
   ],
   "source": [
    "np.abs(x)"
   ]
  },
  {
   "cell_type": "code",
   "execution_count": 133,
   "id": "f86d917d-98cb-4d01-8be8-af8ae8cb5759",
   "metadata": {},
   "outputs": [
    {
     "data": {
      "text/plain": [
       "array([2, 1, 0, 1, 2])"
      ]
     },
     "execution_count": 133,
     "metadata": {},
     "output_type": "execute_result"
    }
   ],
   "source": [
    "np.absolute(x)"
   ]
  },
  {
   "cell_type": "markdown",
   "id": "dc2d7ed7-4195-4ac6-ba0e-62ec178d2682",
   "metadata": {},
   "source": [
    "> Absolute value of complex numbers returns magintude"
   ]
  },
  {
   "cell_type": "code",
   "execution_count": 134,
   "id": "2dfb1063-b1a0-4935-bcd4-665c3261cc26",
   "metadata": {},
   "outputs": [
    {
     "data": {
      "text/plain": [
       "array([3.-4.j, 4.-3.j, 2.+0.j, 0.+1.j])"
      ]
     },
     "execution_count": 134,
     "metadata": {},
     "output_type": "execute_result"
    }
   ],
   "source": [
    "x = np.array([3 - 4j, 4 - 3j, 2 + 0j, 0 + 1j])\n",
    "x"
   ]
  },
  {
   "cell_type": "code",
   "execution_count": 135,
   "id": "bf0105a3-9f39-4ce9-a3f6-256ce2c3e91f",
   "metadata": {},
   "outputs": [
    {
     "data": {
      "text/plain": [
       "array([5., 5., 2., 1.])"
      ]
     },
     "execution_count": 135,
     "metadata": {},
     "output_type": "execute_result"
    }
   ],
   "source": [
    "np.abs(x)"
   ]
  },
  {
   "cell_type": "markdown",
   "id": "2ee23554-b036-467c-986c-78210cf1aaf9",
   "metadata": {},
   "source": [
    ">Trigonometry"
   ]
  },
  {
   "cell_type": "code",
   "execution_count": 136,
   "id": "0e723a66-9493-441e-9719-2d790aa0a296",
   "metadata": {},
   "outputs": [
    {
     "data": {
      "text/plain": [
       "array([0.        , 1.57079633, 3.14159265])"
      ]
     },
     "execution_count": 136,
     "metadata": {},
     "output_type": "execute_result"
    }
   ],
   "source": [
    "theta = np.linspace(0, np.pi, 3)\n",
    "theta"
   ]
  },
  {
   "cell_type": "code",
   "execution_count": 139,
   "id": "f0dda9dc-abc9-4f7f-86af-a63195c65a94",
   "metadata": {},
   "outputs": [
    {
     "data": {
      "text/plain": [
       "(array([0.0000000e+00, 1.0000000e+00, 1.2246468e-16]),\n",
       " array([ 1.000000e+00,  6.123234e-17, -1.000000e+00]),\n",
       " array([ 0.00000000e+00,  1.63312394e+16, -1.22464680e-16]))"
      ]
     },
     "execution_count": 139,
     "metadata": {},
     "output_type": "execute_result"
    }
   ],
   "source": [
    "np.sin(theta), np.cos(theta), np.tan(theta)"
   ]
  },
  {
   "cell_type": "code",
   "execution_count": 140,
   "id": "475b75f4-1f85-402f-ac19-54e57dfcf862",
   "metadata": {},
   "outputs": [
    {
     "data": {
      "text/plain": [
       "(array([-1.57079633,  0.        ,  1.57079633]),\n",
       " array([3.14159265, 1.57079633, 0.        ]),\n",
       " array([-0.78539816,  0.        ,  0.78539816]))"
      ]
     },
     "execution_count": 140,
     "metadata": {},
     "output_type": "execute_result"
    }
   ],
   "source": [
    "x = [-1, 0, 1]\n",
    "np.arcsin(x), np.arccos(x), np.arctan(x)"
   ]
  },
  {
   "cell_type": "markdown",
   "id": "bdb89f04-88c6-40e5-a15a-0741d3a5a0ba",
   "metadata": {},
   "source": [
    ">Exponents and Logs"
   ]
  },
  {
   "cell_type": "code",
   "execution_count": 143,
   "id": "a74556d9-1bf0-4801-9fad-a885093b17b3",
   "metadata": {},
   "outputs": [
    {
     "name": "stdout",
     "output_type": "stream",
     "text": [
      "e^x:\t[ 2.71828183  7.3890561  20.08553692]\n",
      "2^x:\t[2. 4. 8.]\n",
      "3^x:\t[ 3  9 27]\n"
     ]
    }
   ],
   "source": [
    "x = [1,2,3]\n",
    "print(f\"e^x:\\t{np.exp(x)}\")\n",
    "print(f\"2^x:\\t{np.exp2(x)}\")\n",
    "print(f\"3^x:\\t{np.power(3, x)}\")"
   ]
  },
  {
   "cell_type": "code",
   "execution_count": 146,
   "id": "53e8ddd1-4c9e-4979-a806-6a30ac6d5bc8",
   "metadata": {},
   "outputs": [
    {
     "name": "stdout",
     "output_type": "stream",
     "text": [
      "ln(x):\t[0.         0.69314718 1.38629436 2.30258509]\n",
      "log2(x):\t[0.         1.         2.         3.32192809]\n",
      "log10(x):\t[0.         0.30103    0.60205999 1.        ]\n"
     ]
    }
   ],
   "source": [
    "x = [1, 2, 4, 10]\n",
    "print(f\"ln(x):\\t{np.log(x)}\")\n",
    "print(f\"log2(x):\\t{np.log2(x)}\")\n",
    "print(f\"log10(x):\\t{np.log10(x)}\")"
   ]
  },
  {
   "cell_type": "markdown",
   "id": "8f24108c-7ff6-4830-8712-a4a902f6cbca",
   "metadata": {},
   "source": [
    ">[!attention]\n",
    ">For maintaining precision with very small input, instead use:"
   ]
  },
  {
   "cell_type": "code",
   "execution_count": 151,
   "id": "ac65a1ba-2bbf-45b2-876e-dd1dfec93ebd",
   "metadata": {},
   "outputs": [
    {
     "name": "stdout",
     "output_type": "stream",
     "text": [
      "exp(x) - 1 = [0.00000000e+00 1.00050017e-03 1.00501671e-02 1.05170918e-01\n",
      " 1.00000000e-10]\n",
      "log(1 + x) = [0.00000000e+00 9.99500333e-04 9.95033085e-03 9.53101798e-02\n",
      " 1.00000000e-10]\n"
     ]
    }
   ],
   "source": [
    "x = [0, 0.001, 0.01, 0.1, 1e-10]\n",
    "print(f\"exp(x) - 1 = {np.expm1(x)}\")\n",
    "print(f\"log(1 + x) = {np.log1p(x)}\")"
   ]
  },
  {
   "cell_type": "markdown",
   "id": "9d16bde9-5a6b-480f-90ab-145efa465924",
   "metadata": {},
   "source": [
    ">Specialized ufuncs with `scipy`"
   ]
  },
  {
   "cell_type": "code",
   "execution_count": 160,
   "id": "630e4b8f-e2cb-4d7e-a26c-633552fb187b",
   "metadata": {},
   "outputs": [],
   "source": [
    "from scipy import special"
   ]
  },
  {
   "cell_type": "code",
   "execution_count": 163,
   "id": "01f9d8ac-bd95-4336-8245-31424df814da",
   "metadata": {},
   "outputs": [],
   "source": [
    "x = [1, 5, 10]"
   ]
  },
  {
   "cell_type": "markdown",
   "id": "8491c696-950f-4433-a6ea-21e310b733cc",
   "metadata": {},
   "source": [
    ">Gamma functions"
   ]
  },
  {
   "cell_type": "code",
   "execution_count": 164,
   "id": "527e8bf3-8f37-44b0-b921-a4caccd639bc",
   "metadata": {},
   "outputs": [
    {
     "name": "stdout",
     "output_type": "stream",
     "text": [
      "gamma(x)     = [1.0000e+00 2.4000e+01 3.6288e+05]\n",
      "ln|gamma(x)| = [ 0.          3.17805383 12.80182748]\n",
      "beta(x, 2)   = [0.5        0.03333333 0.00909091]\n"
     ]
    }
   ],
   "source": [
    "print(\"gamma(x)     =\", special.gamma(x))\n",
    "print(\"ln|gamma(x)| =\", special.gammaln(x))\n",
    "print(\"beta(x, 2)   =\", special.beta(x, 2))"
   ]
  },
  {
   "cell_type": "markdown",
   "id": "2f7c8b07-b132-425d-8dde-b68284b8a200",
   "metadata": {},
   "source": [
    "> Error function (integral of Gaussian), its complement and inverse"
   ]
  },
  {
   "cell_type": "code",
   "execution_count": 165,
   "id": "ff28240a-cbf8-406e-b430-2bb01eb1190a",
   "metadata": {},
   "outputs": [
    {
     "name": "stdout",
     "output_type": "stream",
     "text": [
      "erf(x)  = [0.         0.32862676 0.67780119 0.84270079]\n",
      "erfc(x) = [1.         0.67137324 0.32219881 0.15729921]\n",
      "erfinv(x) = [0.         0.27246271 0.73286908        inf]\n"
     ]
    }
   ],
   "source": [
    "x = np.array([0, 0.3, 0.7, 1.0])\n",
    "print(\"erf(x)  =\", special.erf(x))\n",
    "print(\"erfc(x) =\", special.erfc(x))\n",
    "print(\"erfinv(x) =\", special.erfinv(x))"
   ]
  },
  {
   "cell_type": "markdown",
   "id": "e46caf41-37a9-4a62-9183-96ad78909eb5",
   "metadata": {},
   "source": [
    ">Aggregation: reduce and accumulate"
   ]
  },
  {
   "cell_type": "code",
   "execution_count": 166,
   "id": "10bdfbc9-e4dc-486f-9796-ee47fb928f82",
   "metadata": {},
   "outputs": [],
   "source": [
    "x = np.arange(1,6)"
   ]
  },
  {
   "cell_type": "code",
   "execution_count": 171,
   "id": "27078357-e4ab-412d-b00b-58ddce932289",
   "metadata": {},
   "outputs": [
    {
     "data": {
      "text/plain": [
       "15"
      ]
     },
     "execution_count": 171,
     "metadata": {},
     "output_type": "execute_result"
    }
   ],
   "source": [
    "np.add.reduce(x) # same as `np.sum()`"
   ]
  },
  {
   "cell_type": "code",
   "execution_count": 172,
   "id": "331a1573-9655-4850-a2f7-e8f66c6c00d7",
   "metadata": {},
   "outputs": [
    {
     "data": {
      "text/plain": [
       "120"
      ]
     },
     "execution_count": 172,
     "metadata": {},
     "output_type": "execute_result"
    }
   ],
   "source": [
    "np.multiply.reduce(x) # same as `np.prod()`"
   ]
  },
  {
   "cell_type": "code",
   "execution_count": 173,
   "id": "a3bfea84-0012-4af2-8b26-121d8f528bdf",
   "metadata": {},
   "outputs": [
    {
     "data": {
      "text/plain": [
       "array([ 1,  3,  6, 10, 15])"
      ]
     },
     "execution_count": 173,
     "metadata": {},
     "output_type": "execute_result"
    }
   ],
   "source": [
    "np.add.accumulate(x) # same as `np.cumsum()`"
   ]
  },
  {
   "cell_type": "code",
   "execution_count": 174,
   "id": "014c73e6-e0c1-4c58-ace2-5b1131814971",
   "metadata": {},
   "outputs": [
    {
     "data": {
      "text/plain": [
       "array([  1,   2,   6,  24, 120])"
      ]
     },
     "execution_count": 174,
     "metadata": {},
     "output_type": "execute_result"
    }
   ],
   "source": [
    "np.multiply.accumulate(x) # same as `np.cumprod`"
   ]
  },
  {
   "cell_type": "markdown",
   "id": "0cdc96c6-695a-4b4d-998e-c994e0d1ad36",
   "metadata": {},
   "source": [
    ">__Specifying pre-existing output array__\n",
    ">\n",
    ">for large calculations, avoids creation of a temporary array with a subsequent copy into y"
   ]
  },
  {
   "cell_type": "code",
   "execution_count": 176,
   "id": "233fdf63-ec4b-482e-98fe-b578512d8045",
   "metadata": {},
   "outputs": [
    {
     "name": "stdout",
     "output_type": "stream",
     "text": [
      "[ 0. 10. 20. 30. 40.]\n"
     ]
    }
   ],
   "source": [
    "x = np.arange(5)\n",
    "y = np.empty(5)\n",
    "np.multiply(x, 10, out=y)\n",
    "print(y)"
   ]
  },
  {
   "cell_type": "code",
   "execution_count": 177,
   "id": "d40a10bd-8d08-4edd-a04e-2add7bcc6fa3",
   "metadata": {},
   "outputs": [
    {
     "name": "stdout",
     "output_type": "stream",
     "text": [
      "[ 1.  0.  2.  0.  4.  0.  8.  0. 16.  0.]\n"
     ]
    }
   ],
   "source": [
    "y = np.zeros(10)\n",
    "np.power(2, x, out=y[::2])\n",
    "print(y)"
   ]
  },
  {
   "cell_type": "markdown",
   "id": "6226c890-81ee-4b28-8558-9e5da7a54ccd",
   "metadata": {},
   "source": [
    ">Perform calculations on pairs with `outer`"
   ]
  },
  {
   "cell_type": "code",
   "execution_count": 181,
   "id": "3032527c-373d-4a41-84e8-6277e7b5804c",
   "metadata": {},
   "outputs": [
    {
     "data": {
      "text/plain": [
       "array([ 1,  4,  9, 16, 25])"
      ]
     },
     "execution_count": 181,
     "metadata": {},
     "output_type": "execute_result"
    }
   ],
   "source": [
    "x = np.arange(1, 6)\n",
    "np.multiply(x,x)"
   ]
  },
  {
   "cell_type": "code",
   "execution_count": 182,
   "id": "204898d4-ef99-4236-938e-7ec49fd1c7d5",
   "metadata": {},
   "outputs": [
    {
     "data": {
      "text/plain": [
       "array([[ 1,  2,  3,  4,  5],\n",
       "       [ 2,  4,  6,  8, 10],\n",
       "       [ 3,  6,  9, 12, 15],\n",
       "       [ 4,  8, 12, 16, 20],\n",
       "       [ 5, 10, 15, 20, 25]])"
      ]
     },
     "execution_count": 182,
     "metadata": {},
     "output_type": "execute_result"
    }
   ],
   "source": [
    "np.multiply.outer(x,x)"
   ]
  },
  {
   "cell_type": "code",
   "execution_count": 183,
   "id": "6c790969-6ed6-4eb2-9328-8f3cafed68be",
   "metadata": {},
   "outputs": [
    {
     "data": {
      "text/plain": [
       "array([[ 2,  3,  4,  5,  6],\n",
       "       [ 3,  4,  5,  6,  7],\n",
       "       [ 4,  5,  6,  7,  8],\n",
       "       [ 5,  6,  7,  8,  9],\n",
       "       [ 6,  7,  8,  9, 10]])"
      ]
     },
     "execution_count": 183,
     "metadata": {},
     "output_type": "execute_result"
    }
   ],
   "source": [
    "np.add.outer(x,x)"
   ]
  },
  {
   "cell_type": "markdown",
   "id": "c1b6283d-f657-45c7-b604-ac080b58bc43",
   "metadata": {},
   "source": [
    "# Statistical Aggregation"
   ]
  },
  {
   "cell_type": "code",
   "execution_count": 184,
   "id": "5fcb4e82-d4a2-45dd-884a-431f0fe583e1",
   "metadata": {},
   "outputs": [],
   "source": [
    "import numpy as np \n",
    "L = np.random.random(100)"
   ]
  },
  {
   "cell_type": "markdown",
   "id": "69d773b9-b7ba-4354-a804-099190d9c072",
   "metadata": {},
   "source": [
    ">Summing"
   ]
  },
  {
   "cell_type": "code",
   "execution_count": 185,
   "id": "9c37e573-26fd-49ce-935b-05c587f5ccae",
   "metadata": {},
   "outputs": [
    {
     "data": {
      "text/plain": [
       "49.210421685435314"
      ]
     },
     "execution_count": 185,
     "metadata": {},
     "output_type": "execute_result"
    }
   ],
   "source": [
    "np.sum(L)"
   ]
  },
  {
   "cell_type": "code",
   "execution_count": 187,
   "id": "202889b5-e563-4dfd-ba7c-63ee1c546dfa",
   "metadata": {},
   "outputs": [
    {
     "name": "stdout",
     "output_type": "stream",
     "text": [
      "57.2 ms ± 1.13 ms per loop (mean ± std. dev. of 7 runs, 10 loops each)\n",
      "245 μs ± 19.7 μs per loop (mean ± std. dev. of 7 runs, 1,000 loops each)\n"
     ]
    }
   ],
   "source": [
    "big_array = np.random.rand(int(1e6))\n",
    "%timeit sum(big_array)\n",
    "%timeit np.sum(big_array)"
   ]
  },
  {
   "cell_type": "markdown",
   "id": "7f33740c-877c-4b58-8224-376de94156de",
   "metadata": {},
   "source": [
    ">Minimum and Maximum"
   ]
  },
  {
   "cell_type": "code",
   "execution_count": 189,
   "id": "32bf0439-eac1-474a-823e-fb46d9ed2461",
   "metadata": {},
   "outputs": [
    {
     "data": {
      "text/plain": [
       "(2.067514368597756e-07, 0.9999992772471815)"
      ]
     },
     "execution_count": 189,
     "metadata": {},
     "output_type": "execute_result"
    }
   ],
   "source": [
    "np.min(big_array), np.max(big_array)"
   ]
  },
  {
   "cell_type": "code",
   "execution_count": 190,
   "id": "cd90c71a-106b-4b48-8998-eda10169cfc5",
   "metadata": {},
   "outputs": [
    {
     "name": "stdout",
     "output_type": "stream",
     "text": [
      "41.4 ms ± 621 μs per loop (mean ± std. dev. of 7 runs, 10 loops each)\n",
      "167 μs ± 1.87 μs per loop (mean ± std. dev. of 7 runs, 10,000 loops each)\n"
     ]
    }
   ],
   "source": [
    "%timeit min(big_array)\n",
    "%timeit np.min(big_array)"
   ]
  },
  {
   "cell_type": "markdown",
   "id": "d187d9c9-3182-4b31-be07-1641d5157fa3",
   "metadata": {},
   "source": [
    ">Alternate syntax"
   ]
  },
  {
   "cell_type": "code",
   "execution_count": 191,
   "id": "4f11c979-4a75-425f-a22a-7e209208b4e9",
   "metadata": {},
   "outputs": [
    {
     "data": {
      "text/plain": [
       "(499859.51691425196, 0.9999992772471815)"
      ]
     },
     "execution_count": 191,
     "metadata": {},
     "output_type": "execute_result"
    }
   ],
   "source": [
    "big_array.sum(), big_array.max()"
   ]
  },
  {
   "cell_type": "markdown",
   "id": "2f4813c9-3425-49d7-a54e-0eff1ae96120",
   "metadata": {},
   "source": [
    ">Multidemensional aggregates"
   ]
  },
  {
   "cell_type": "code",
   "execution_count": null,
   "id": "84ea1a4b-5c0e-4708-b552-ca24fa07d7ea",
   "metadata": {},
   "outputs": [],
   "source": []
  }
 ],
 "metadata": {
  "kernelspec": {
   "display_name": "Python 3 (ipykernel)",
   "language": "python",
   "name": "python3"
  },
  "language_info": {
   "codemirror_mode": {
    "name": "ipython",
    "version": 3
   },
   "file_extension": ".py",
   "mimetype": "text/x-python",
   "name": "python",
   "nbconvert_exporter": "python",
   "pygments_lexer": "ipython3",
   "version": "3.12.7"
  }
 },
 "nbformat": 4,
 "nbformat_minor": 5
}
