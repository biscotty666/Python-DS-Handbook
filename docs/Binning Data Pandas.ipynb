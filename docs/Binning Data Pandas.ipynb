{
 "cells": [
  {
   "cell_type": "markdown",
   "id": "58a64e60-c20c-4240-a0f2-f0a0cdc7cd9e",
   "metadata": {},
   "source": [
    "# Binning Data in Pandas"
   ]
  },
  {
   "cell_type": "markdown",
   "id": "12d38f7e-bbc7-4dee-9afe-77d0dc3276d8",
   "metadata": {},
   "source": [
    "## `pd.cut`"
   ]
  },
  {
   "cell_type": "markdown",
   "id": "04a5c9ad-c931-45af-b634-0f893024256c",
   "metadata": {},
   "source": [
    ">Bin values into discrete intervals.\n",
    ">\n",
    ">Use `cut` when you need to segment and sort data values into bins. This\n",
    "function is also useful for going from a continuous variable to a\n",
    "categorical variable. For example, `cut` could convert ages to groups of\n",
    "age ranges. Supports binning into an equal number of bins, or a\n",
    "pre-specified array of bins."
   ]
  },
  {
   "cell_type": "code",
   "execution_count": 29,
   "id": "ed20eb71-33d8-44f6-a0b6-ef52d15beb91",
   "metadata": {},
   "outputs": [
    {
     "data": {
      "text/plain": [
       "[(0.994, 3.0], (5.0, 7.0], (3.0, 5.0], (3.0, 5.0], (5.0, 7.0], (0.994, 3.0]]\n",
       "Categories (3, interval[float64, right]): [(0.994, 3.0] < (3.0, 5.0] < (5.0, 7.0]]"
      ]
     },
     "execution_count": 29,
     "metadata": {},
     "output_type": "execute_result"
    }
   ],
   "source": [
    "import pandas as pd \n",
    "import numpy as np \n",
    "\n",
    "arr = np.array([1,7,5,4,6,3])\n",
    "pd.cut(arr, 3)"
   ]
  },
  {
   "cell_type": "code",
   "execution_count": 30,
   "id": "92a45345-6b5b-4203-a6fc-fc303f1f59f1",
   "metadata": {},
   "outputs": [
    {
     "data": {
      "text/plain": [
       "([(0.994, 3.0], (5.0, 7.0], (3.0, 5.0], (3.0, 5.0], (5.0, 7.0], (0.994, 3.0]]\n",
       " Categories (3, interval[float64, right]): [(0.994, 3.0] < (3.0, 5.0] < (5.0, 7.0]],\n",
       " array([0.994, 3.   , 5.   , 7.   ]))"
      ]
     },
     "execution_count": 30,
     "metadata": {},
     "output_type": "execute_result"
    }
   ],
   "source": [
    "binned = pd.cut(arr, 3, retbins=True)\n",
    "binned"
   ]
  },
  {
   "cell_type": "code",
   "execution_count": 31,
   "id": "d9822ce2-3b23-443e-b364-3233259301ea",
   "metadata": {},
   "outputs": [
    {
     "data": {
      "text/plain": [
       "array([0.994, 3.   , 5.   , 7.   ])"
      ]
     },
     "execution_count": 31,
     "metadata": {},
     "output_type": "execute_result"
    }
   ],
   "source": [
    "binned[1]"
   ]
  },
  {
   "cell_type": "code",
   "execution_count": 32,
   "id": "c31dbfc9-3c9c-454a-aa48-1f50b34b708c",
   "metadata": {},
   "outputs": [
    {
     "data": {
      "text/plain": [
       "[(0.994, 3.0], (5.0, 7.0], (3.0, 5.0], (3.0, 5.0], (5.0, 7.0], (0.994, 3.0]]\n",
       "Categories (3, interval[float64, right]): [(0.994, 3.0] < (3.0, 5.0] < (5.0, 7.0]]"
      ]
     },
     "execution_count": 32,
     "metadata": {},
     "output_type": "execute_result"
    }
   ],
   "source": [
    "binned[0]"
   ]
  },
  {
   "cell_type": "code",
   "execution_count": 33,
   "id": "ad8fbff9-9943-4d59-ae66-50cbf39d1dd7",
   "metadata": {},
   "outputs": [],
   "source": [
    "%matplotlib inline\n",
    "import matplotlib.pyplot as plt \n",
    "plt.style.use('seaborn-v0_8-darkgrid')"
   ]
  },
  {
   "cell_type": "code",
   "execution_count": 34,
   "id": "51d51a55-bf87-46bf-a16b-662907ded47c",
   "metadata": {},
   "outputs": [
    {
     "data": {
      "text/html": [
       "<div>\n",
       "<style scoped>\n",
       "    .dataframe tbody tr th:only-of-type {\n",
       "        vertical-align: middle;\n",
       "    }\n",
       "\n",
       "    .dataframe tbody tr th {\n",
       "        vertical-align: top;\n",
       "    }\n",
       "\n",
       "    .dataframe thead th {\n",
       "        text-align: right;\n",
       "    }\n",
       "</style>\n",
       "<table border=\"1\" class=\"dataframe\">\n",
       "  <thead>\n",
       "    <tr style=\"text-align: right;\">\n",
       "      <th></th>\n",
       "      <th>account number</th>\n",
       "      <th>name</th>\n",
       "      <th>sku</th>\n",
       "      <th>quantity</th>\n",
       "      <th>unit price</th>\n",
       "      <th>ext price</th>\n",
       "      <th>date</th>\n",
       "    </tr>\n",
       "  </thead>\n",
       "  <tbody>\n",
       "    <tr>\n",
       "      <th>0</th>\n",
       "      <td>740150</td>\n",
       "      <td>Barton LLC</td>\n",
       "      <td>B1-20000</td>\n",
       "      <td>39</td>\n",
       "      <td>86.69</td>\n",
       "      <td>3380.91</td>\n",
       "      <td>2018-01-01 07:21:51</td>\n",
       "    </tr>\n",
       "    <tr>\n",
       "      <th>1</th>\n",
       "      <td>714466</td>\n",
       "      <td>Trantow-Barrows</td>\n",
       "      <td>S2-77896</td>\n",
       "      <td>-1</td>\n",
       "      <td>63.16</td>\n",
       "      <td>-63.16</td>\n",
       "      <td>2018-01-01 10:00:47</td>\n",
       "    </tr>\n",
       "    <tr>\n",
       "      <th>2</th>\n",
       "      <td>218895</td>\n",
       "      <td>Kulas Inc</td>\n",
       "      <td>B1-69924</td>\n",
       "      <td>23</td>\n",
       "      <td>90.70</td>\n",
       "      <td>2086.10</td>\n",
       "      <td>2018-01-01 13:24:58</td>\n",
       "    </tr>\n",
       "    <tr>\n",
       "      <th>3</th>\n",
       "      <td>307599</td>\n",
       "      <td>Kassulke, Ondricka and Metz</td>\n",
       "      <td>S1-65481</td>\n",
       "      <td>41</td>\n",
       "      <td>21.05</td>\n",
       "      <td>863.05</td>\n",
       "      <td>2018-01-01 15:05:22</td>\n",
       "    </tr>\n",
       "    <tr>\n",
       "      <th>4</th>\n",
       "      <td>412290</td>\n",
       "      <td>Jerde-Hilpert</td>\n",
       "      <td>S2-34077</td>\n",
       "      <td>6</td>\n",
       "      <td>83.21</td>\n",
       "      <td>499.26</td>\n",
       "      <td>2018-01-01 23:26:55</td>\n",
       "    </tr>\n",
       "  </tbody>\n",
       "</table>\n",
       "</div>"
      ],
      "text/plain": [
       "   account number                         name       sku  quantity  \\\n",
       "0          740150                   Barton LLC  B1-20000        39   \n",
       "1          714466              Trantow-Barrows  S2-77896        -1   \n",
       "2          218895                    Kulas Inc  B1-69924        23   \n",
       "3          307599  Kassulke, Ondricka and Metz  S1-65481        41   \n",
       "4          412290                Jerde-Hilpert  S2-34077         6   \n",
       "\n",
       "   unit price  ext price                date  \n",
       "0       86.69    3380.91 2018-01-01 07:21:51  \n",
       "1       63.16     -63.16 2018-01-01 10:00:47  \n",
       "2       90.70    2086.10 2018-01-01 13:24:58  \n",
       "3       21.05     863.05 2018-01-01 15:05:22  \n",
       "4       83.21     499.26 2018-01-01 23:26:55  "
      ]
     },
     "execution_count": 34,
     "metadata": {},
     "output_type": "execute_result"
    }
   ],
   "source": [
    "raw_df = pd.read_excel(\"data/2018_Sales_Total.xlsx\")\n",
    "raw_df.head()"
   ]
  },
  {
   "cell_type": "markdown",
   "id": "a35a04f3-0022-4e37-8a0f-9e46c4f355ab",
   "metadata": {},
   "source": [
    "## Manual Binning"
   ]
  },
  {
   "cell_type": "code",
   "execution_count": 35,
   "id": "8c0a3563-0bbd-4fa0-a5c2-2a2f7ef2f484",
   "metadata": {},
   "outputs": [
    {
     "data": {
      "text/html": [
       "<div>\n",
       "<style scoped>\n",
       "    .dataframe tbody tr th:only-of-type {\n",
       "        vertical-align: middle;\n",
       "    }\n",
       "\n",
       "    .dataframe tbody tr th {\n",
       "        vertical-align: top;\n",
       "    }\n",
       "\n",
       "    .dataframe thead th {\n",
       "        text-align: right;\n",
       "    }\n",
       "</style>\n",
       "<table border=\"1\" class=\"dataframe\">\n",
       "  <thead>\n",
       "    <tr style=\"text-align: right;\">\n",
       "      <th></th>\n",
       "      <th>account number</th>\n",
       "      <th>name</th>\n",
       "      <th>ext price</th>\n",
       "    </tr>\n",
       "  </thead>\n",
       "  <tbody>\n",
       "    <tr>\n",
       "      <th>0</th>\n",
       "      <td>141962</td>\n",
       "      <td>Herman LLC</td>\n",
       "      <td>82865.00</td>\n",
       "    </tr>\n",
       "    <tr>\n",
       "      <th>1</th>\n",
       "      <td>146832</td>\n",
       "      <td>Kiehn-Spinka</td>\n",
       "      <td>99608.77</td>\n",
       "    </tr>\n",
       "    <tr>\n",
       "      <th>2</th>\n",
       "      <td>163416</td>\n",
       "      <td>Purdy-Kunde</td>\n",
       "      <td>77898.21</td>\n",
       "    </tr>\n",
       "    <tr>\n",
       "      <th>3</th>\n",
       "      <td>218895</td>\n",
       "      <td>Kulas Inc</td>\n",
       "      <td>137351.96</td>\n",
       "    </tr>\n",
       "    <tr>\n",
       "      <th>4</th>\n",
       "      <td>239344</td>\n",
       "      <td>Stokes LLC</td>\n",
       "      <td>91535.92</td>\n",
       "    </tr>\n",
       "  </tbody>\n",
       "</table>\n",
       "</div>"
      ],
      "text/plain": [
       "   account number          name  ext price\n",
       "0          141962    Herman LLC   82865.00\n",
       "1          146832  Kiehn-Spinka   99608.77\n",
       "2          163416   Purdy-Kunde   77898.21\n",
       "3          218895     Kulas Inc  137351.96\n",
       "4          239344    Stokes LLC   91535.92"
      ]
     },
     "execution_count": 35,
     "metadata": {},
     "output_type": "execute_result"
    }
   ],
   "source": [
    "df = raw_df.groupby(['account number', 'name'])['ext price'].sum().reset_index()\n",
    "df.head()"
   ]
  },
  {
   "cell_type": "code",
   "execution_count": 36,
   "id": "3819acff-aed9-474d-9142-dca91efe112b",
   "metadata": {},
   "outputs": [
    {
     "data": {
      "text/plain": [
       "<Axes: ylabel='Frequency'>"
      ]
     },
     "execution_count": 36,
     "metadata": {},
     "output_type": "execute_result"
    },
    {
     "data": {
      "image/png": "[encoded data removed]",
      "text/plain": [
       "<Figure size 640x480 with 1 Axes>"
      ]
     },
     "metadata": {},
     "output_type": "display_data"
    }
   ],
   "source": [
    "df['ext price'].plot(kind='hist')"
   ]
  },
  {
   "cell_type": "markdown",
   "id": "474d6a16-489e-493b-80ea-6971a3ea567f",
   "metadata": {},
   "source": [
    "## Binning by quantiles"
   ]
  },
  {
   "cell_type": "markdown",
   "id": "92eb0125-b15b-4ba6-b2f6-207a1330350b",
   "metadata": {},
   "source": [
    ">Signature:\n",
    ">pd.qcut(\n",
    ">    x,\n",
    ">    q,\n",
    ">    labels=None,\n",
    ">    retbins: 'bool' = False,\n",
    ">    precision: 'int' = 3,\n",
    ">    duplicates: 'str' = 'raise',\n",
    ">)\n",
    ">\n",
    ">Quantile-based discretization function.>\n",
    ">\n",
    ">Discretize variable into equal-sized buckets based on rank or based on sample quantiles. For example 1000 values for 10 quantiles would\n",
    ">produce a Categorical object indicating quantile membership for each data point. "
   ]
  },
  {
   "cell_type": "code",
   "execution_count": 37,
   "id": "c5b09f25-23fb-474d-a4b7-80c63f096a88",
   "metadata": {},
   "outputs": [
    {
     "data": {
      "text/plain": [
       "count        20.000000\n",
       "mean     100939.216000\n",
       "std       17675.097485\n",
       "min       70004.360000\n",
       "25%       89137.707500\n",
       "50%      100271.535000\n",
       "75%      110132.552500\n",
       "max      137351.960000\n",
       "Name: ext price, dtype: float64"
      ]
     },
     "execution_count": 37,
     "metadata": {},
     "output_type": "execute_result"
    }
   ],
   "source": [
    "df['ext price'].describe()"
   ]
  },
  {
   "cell_type": "code",
   "execution_count": 38,
   "id": "607e5185-3cd5-46f8-a201-e53d503c68c0",
   "metadata": {},
   "outputs": [
    {
     "data": {
      "text/plain": [
       "0       (70004.359, 89137.708]\n",
       "1      (89137.708, 100271.535]\n",
       "2       (70004.359, 89137.708]\n",
       "3      (110132.552, 137351.96]\n",
       "4      (89137.708, 100271.535]\n",
       "5      (89137.708, 100271.535]\n",
       "6       (70004.359, 89137.708]\n",
       "7     (100271.535, 110132.552]\n",
       "8      (110132.552, 137351.96]\n",
       "9      (110132.552, 137351.96]\n",
       "10     (89137.708, 100271.535]\n",
       "11      (70004.359, 89137.708]\n",
       "12      (70004.359, 89137.708]\n",
       "13     (89137.708, 100271.535]\n",
       "14    (100271.535, 110132.552]\n",
       "15     (110132.552, 137351.96]\n",
       "16    (100271.535, 110132.552]\n",
       "17     (110132.552, 137351.96]\n",
       "18    (100271.535, 110132.552]\n",
       "19    (100271.535, 110132.552]\n",
       "Name: ext price, dtype: category\n",
       "Categories (4, interval[float64, right]): [(70004.359, 89137.708] < (89137.708, 100271.535] < (100271.535, 110132.552] < (110132.552, 137351.96]]"
      ]
     },
     "execution_count": 38,
     "metadata": {},
     "output_type": "execute_result"
    }
   ],
   "source": [
    "pd.qcut(df['ext price'], q=4)"
   ]
  },
  {
   "cell_type": "code",
   "execution_count": 39,
   "id": "3ead54d2-f0ea-415c-8b52-a121f71d5d15",
   "metadata": {},
   "outputs": [
    {
     "data": {
      "text/html": [
       "<div>\n",
       "<style scoped>\n",
       "    .dataframe tbody tr th:only-of-type {\n",
       "        vertical-align: middle;\n",
       "    }\n",
       "\n",
       "    .dataframe tbody tr th {\n",
       "        vertical-align: top;\n",
       "    }\n",
       "\n",
       "    .dataframe thead th {\n",
       "        text-align: right;\n",
       "    }\n",
       "</style>\n",
       "<table border=\"1\" class=\"dataframe\">\n",
       "  <thead>\n",
       "    <tr style=\"text-align: right;\">\n",
       "      <th></th>\n",
       "      <th>account number</th>\n",
       "      <th>name</th>\n",
       "      <th>ext price</th>\n",
       "      <th>quantile_ex_1</th>\n",
       "      <th>quantile_ex_2</th>\n",
       "    </tr>\n",
       "  </thead>\n",
       "  <tbody>\n",
       "    <tr>\n",
       "      <th>0</th>\n",
       "      <td>141962</td>\n",
       "      <td>Herman LLC</td>\n",
       "      <td>82865.00</td>\n",
       "      <td>(70004.359, 89137.708]</td>\n",
       "      <td>(82368.0, 87168.0]</td>\n",
       "    </tr>\n",
       "    <tr>\n",
       "      <th>1</th>\n",
       "      <td>146832</td>\n",
       "      <td>Kiehn-Spinka</td>\n",
       "      <td>99608.77</td>\n",
       "      <td>(89137.708, 100271.535]</td>\n",
       "      <td>(95908.0, 100272.0]</td>\n",
       "    </tr>\n",
       "    <tr>\n",
       "      <th>2</th>\n",
       "      <td>163416</td>\n",
       "      <td>Purdy-Kunde</td>\n",
       "      <td>77898.21</td>\n",
       "      <td>(70004.359, 89137.708]</td>\n",
       "      <td>(70003.0, 82368.0]</td>\n",
       "    </tr>\n",
       "    <tr>\n",
       "      <th>3</th>\n",
       "      <td>218895</td>\n",
       "      <td>Kulas Inc</td>\n",
       "      <td>137351.96</td>\n",
       "      <td>(110132.552, 137351.96]</td>\n",
       "      <td>(124627.0, 137352.0]</td>\n",
       "    </tr>\n",
       "    <tr>\n",
       "      <th>4</th>\n",
       "      <td>239344</td>\n",
       "      <td>Stokes LLC</td>\n",
       "      <td>91535.92</td>\n",
       "      <td>(89137.708, 100271.535]</td>\n",
       "      <td>(90686.0, 95908.0]</td>\n",
       "    </tr>\n",
       "  </tbody>\n",
       "</table>\n",
       "</div>"
      ],
      "text/plain": [
       "   account number          name  ext price            quantile_ex_1  \\\n",
       "0          141962    Herman LLC   82865.00   (70004.359, 89137.708]   \n",
       "1          146832  Kiehn-Spinka   99608.77  (89137.708, 100271.535]   \n",
       "2          163416   Purdy-Kunde   77898.21   (70004.359, 89137.708]   \n",
       "3          218895     Kulas Inc  137351.96  (110132.552, 137351.96]   \n",
       "4          239344    Stokes LLC   91535.92  (89137.708, 100271.535]   \n",
       "\n",
       "          quantile_ex_2  \n",
       "0    (82368.0, 87168.0]  \n",
       "1   (95908.0, 100272.0]  \n",
       "2    (70003.0, 82368.0]  \n",
       "3  (124627.0, 137352.0]  \n",
       "4    (90686.0, 95908.0]  "
      ]
     },
     "execution_count": 39,
     "metadata": {},
     "output_type": "execute_result"
    }
   ],
   "source": [
    "df['quantile_ex_1'] = pd.qcut(df['ext price'], q=4)\n",
    "df['quantile_ex_2'] = pd.qcut(df['ext price'], q=10, precision=0)\n",
    "\n",
    "df.head()"
   ]
  },
  {
   "cell_type": "markdown",
   "id": "862f49b5-63b3-4fee-aec0-582b84a85968",
   "metadata": {},
   "source": [
    "## Counting"
   ]
  },
  {
   "cell_type": "code",
   "execution_count": 40,
   "id": "42150eed-952a-4665-b7b3-4c32cb2eda73",
   "metadata": {},
   "outputs": [
    {
     "data": {
      "text/plain": [
       "quantile_ex_1\n",
       "(70004.359, 89137.708]      5\n",
       "(89137.708, 100271.535]     5\n",
       "(100271.535, 110132.552]    5\n",
       "(110132.552, 137351.96]     5\n",
       "Name: count, dtype: int64"
      ]
     },
     "execution_count": 40,
     "metadata": {},
     "output_type": "execute_result"
    }
   ],
   "source": [
    "df['quantile_ex_1'].value_counts()"
   ]
  },
  {
   "cell_type": "code",
   "execution_count": 41,
   "id": "c955d000-f6a2-49b8-84ca-31e7611c2e31",
   "metadata": {},
   "outputs": [
    {
     "data": {
      "text/plain": [
       "ext price\n",
       "(70004.359, 89137.708]      5\n",
       "(89137.708, 100271.535]     5\n",
       "(100271.535, 110132.552]    5\n",
       "(110132.552, 137351.96]     5\n",
       "Name: count, dtype: int64"
      ]
     },
     "execution_count": 41,
     "metadata": {},
     "output_type": "execute_result"
    }
   ],
   "source": [
    "pd.qcut(df['ext price'], q=4).value_counts()"
   ]
  },
  {
   "cell_type": "code",
   "execution_count": 42,
   "id": "4eee8e76-62b2-49f8-bbf0-3662b5439dfa",
   "metadata": {},
   "outputs": [],
   "source": [
    "bin_labels_5 = ['Bronze', 'Silver', 'Gold', 'Platinum', 'Diamond']"
   ]
  },
  {
   "cell_type": "code",
   "execution_count": 43,
   "id": "e31a18fe-d8c6-4441-ae72-266473763595",
   "metadata": {},
   "outputs": [
    {
     "data": {
      "text/plain": [
       "0     Bronze\n",
       "1       Gold\n",
       "2     Bronze\n",
       "3    Diamond\n",
       "4     Silver\n",
       "Name: ext price, dtype: category\n",
       "Categories (5, object): ['Bronze' < 'Silver' < 'Gold' < 'Platinum' < 'Diamond']"
      ]
     },
     "execution_count": 43,
     "metadata": {},
     "output_type": "execute_result"
    }
   ],
   "source": [
    "pd.qcut(df['ext price'], \n",
    "        q=[0, .2, .4, .6, .8, 1], \n",
    "       labels=bin_labels_5).head()"
   ]
  },
  {
   "cell_type": "code",
   "execution_count": 44,
   "id": "80f42292-a6c1-4539-b128-eb4b73f2b2bc",
   "metadata": {},
   "outputs": [
    {
     "data": {
      "text/html": [
       "<div>\n",
       "<style scoped>\n",
       "    .dataframe tbody tr th:only-of-type {\n",
       "        vertical-align: middle;\n",
       "    }\n",
       "\n",
       "    .dataframe tbody tr th {\n",
       "        vertical-align: top;\n",
       "    }\n",
       "\n",
       "    .dataframe thead th {\n",
       "        text-align: right;\n",
       "    }\n",
       "</style>\n",
       "<table border=\"1\" class=\"dataframe\">\n",
       "  <thead>\n",
       "    <tr style=\"text-align: right;\">\n",
       "      <th></th>\n",
       "      <th>account number</th>\n",
       "      <th>name</th>\n",
       "      <th>ext price</th>\n",
       "      <th>quantile_ex_1</th>\n",
       "      <th>quantile_ex_2</th>\n",
       "      <th>medal</th>\n",
       "    </tr>\n",
       "  </thead>\n",
       "  <tbody>\n",
       "    <tr>\n",
       "      <th>0</th>\n",
       "      <td>141962</td>\n",
       "      <td>Herman LLC</td>\n",
       "      <td>82865.00</td>\n",
       "      <td>(70004.359, 89137.708]</td>\n",
       "      <td>(82368.0, 87168.0]</td>\n",
       "      <td>Bronze</td>\n",
       "    </tr>\n",
       "    <tr>\n",
       "      <th>1</th>\n",
       "      <td>146832</td>\n",
       "      <td>Kiehn-Spinka</td>\n",
       "      <td>99608.77</td>\n",
       "      <td>(89137.708, 100271.535]</td>\n",
       "      <td>(95908.0, 100272.0]</td>\n",
       "      <td>Gold</td>\n",
       "    </tr>\n",
       "    <tr>\n",
       "      <th>2</th>\n",
       "      <td>163416</td>\n",
       "      <td>Purdy-Kunde</td>\n",
       "      <td>77898.21</td>\n",
       "      <td>(70004.359, 89137.708]</td>\n",
       "      <td>(70003.0, 82368.0]</td>\n",
       "      <td>Bronze</td>\n",
       "    </tr>\n",
       "    <tr>\n",
       "      <th>3</th>\n",
       "      <td>218895</td>\n",
       "      <td>Kulas Inc</td>\n",
       "      <td>137351.96</td>\n",
       "      <td>(110132.552, 137351.96]</td>\n",
       "      <td>(124627.0, 137352.0]</td>\n",
       "      <td>Diamond</td>\n",
       "    </tr>\n",
       "    <tr>\n",
       "      <th>4</th>\n",
       "      <td>239344</td>\n",
       "      <td>Stokes LLC</td>\n",
       "      <td>91535.92</td>\n",
       "      <td>(89137.708, 100271.535]</td>\n",
       "      <td>(90686.0, 95908.0]</td>\n",
       "      <td>Silver</td>\n",
       "    </tr>\n",
       "  </tbody>\n",
       "</table>\n",
       "</div>"
      ],
      "text/plain": [
       "   account number          name  ext price            quantile_ex_1  \\\n",
       "0          141962    Herman LLC   82865.00   (70004.359, 89137.708]   \n",
       "1          146832  Kiehn-Spinka   99608.77  (89137.708, 100271.535]   \n",
       "2          163416   Purdy-Kunde   77898.21   (70004.359, 89137.708]   \n",
       "3          218895     Kulas Inc  137351.96  (110132.552, 137351.96]   \n",
       "4          239344    Stokes LLC   91535.92  (89137.708, 100271.535]   \n",
       "\n",
       "          quantile_ex_2    medal  \n",
       "0    (82368.0, 87168.0]   Bronze  \n",
       "1   (95908.0, 100272.0]     Gold  \n",
       "2    (70003.0, 82368.0]   Bronze  \n",
       "3  (124627.0, 137352.0]  Diamond  \n",
       "4    (90686.0, 95908.0]   Silver  "
      ]
     },
     "execution_count": 44,
     "metadata": {},
     "output_type": "execute_result"
    }
   ],
   "source": [
    "df['medal'] = pd.qcut(df['ext price'], \n",
    "        q=[0, .2, .4, .6, .8, 1], \n",
    "       labels=bin_labels_5)\n",
    "df.head()"
   ]
  },
  {
   "cell_type": "code",
   "execution_count": 45,
   "id": "7130ad16-8ee3-415b-8704-49d8980e9a08",
   "metadata": {},
   "outputs": [
    {
     "data": {
      "text/plain": [
       "medal\n",
       "Bronze      4\n",
       "Silver      4\n",
       "Gold        4\n",
       "Platinum    4\n",
       "Diamond     4\n",
       "Name: count, dtype: int64"
      ]
     },
     "execution_count": 45,
     "metadata": {},
     "output_type": "execute_result"
    }
   ],
   "source": [
    "df['medal'].value_counts()"
   ]
  },
  {
   "cell_type": "markdown",
   "id": "6e8a147c-a61a-446d-b939-cefe3bcc55f8",
   "metadata": {},
   "source": [
    "## Return bin ranges"
   ]
  },
  {
   "cell_type": "raw",
   "id": "cb7c90e0-a048-4a5e-b198-38f3d90d8bad",
   "metadata": {},
   "source": [
    "results, bin_edges = pd.qcut(df['ext price'], \n",
    "                             q=[0, .2, .4, .6, .8, 1], \n",
    "                             labels=bin_labels_5,\n",
    "                             retbins=True\n",
    "                        )"
   ]
  },
  {
   "cell_type": "code",
   "execution_count": 56,
   "id": "530028ed-b55e-42f7-b206-4fa43153948d",
   "metadata": {},
   "outputs": [
    {
     "data": {
      "text/html": [
       "<div>\n",
       "<style scoped>\n",
       "    .dataframe tbody tr th:only-of-type {\n",
       "        vertical-align: middle;\n",
       "    }\n",
       "\n",
       "    .dataframe tbody tr th {\n",
       "        vertical-align: top;\n",
       "    }\n",
       "\n",
       "    .dataframe thead th {\n",
       "        text-align: right;\n",
       "    }\n",
       "</style>\n",
       "<table border=\"1\" class=\"dataframe\">\n",
       "  <thead>\n",
       "    <tr style=\"text-align: right;\">\n",
       "      <th></th>\n",
       "      <th>Threshold</th>\n",
       "      <th>Tier</th>\n",
       "    </tr>\n",
       "  </thead>\n",
       "  <tbody>\n",
       "    <tr>\n",
       "      <th>0</th>\n",
       "      <td>70004.360</td>\n",
       "      <td>Bronze</td>\n",
       "    </tr>\n",
       "    <tr>\n",
       "      <th>1</th>\n",
       "      <td>87167.958</td>\n",
       "      <td>Silver</td>\n",
       "    </tr>\n",
       "    <tr>\n",
       "      <th>2</th>\n",
       "      <td>95908.156</td>\n",
       "      <td>Gold</td>\n",
       "    </tr>\n",
       "    <tr>\n",
       "      <th>3</th>\n",
       "      <td>103605.970</td>\n",
       "      <td>Platinum</td>\n",
       "    </tr>\n",
       "    <tr>\n",
       "      <th>4</th>\n",
       "      <td>112290.054</td>\n",
       "      <td>Diamond</td>\n",
       "    </tr>\n",
       "  </tbody>\n",
       "</table>\n",
       "</div>"
      ],
      "text/plain": [
       "    Threshold      Tier\n",
       "0   70004.360    Bronze\n",
       "1   87167.958    Silver\n",
       "2   95908.156      Gold\n",
       "3  103605.970  Platinum\n",
       "4  112290.054   Diamond"
      ]
     },
     "execution_count": 56,
     "metadata": {},
     "output_type": "execute_result"
    }
   ],
   "source": [
    "results_table = pd.DataFrame(zip(bin_edges, bin_labels_5),\n",
    "                            columns=['Threshold', 'Tier'])\n",
    "results_table"
   ]
  },
  {
   "cell_type": "code",
   "execution_count": 50,
   "id": "6d200bc9-e681-4f64-a817-f1fc355d3d15",
   "metadata": {},
   "outputs": [],
   "source": [
    "results, bins = pd.qcut(df['ext price'], \n",
    "                             q=[0, .2, .4, .6, .8, 1], \n",
    "                             labels=bin_labels_5,\n",
    "                             retbins=True\n",
    "                        )"
   ]
  },
  {
   "cell_type": "code",
   "execution_count": 57,
   "id": "314fa0cc-4261-45ad-94c8-0ee42d263a8f",
   "metadata": {},
   "outputs": [
    {
     "data": {
      "text/html": [
       "<div>\n",
       "<style scoped>\n",
       "    .dataframe tbody tr th:only-of-type {\n",
       "        vertical-align: middle;\n",
       "    }\n",
       "\n",
       "    .dataframe tbody tr th {\n",
       "        vertical-align: top;\n",
       "    }\n",
       "\n",
       "    .dataframe thead th {\n",
       "        text-align: right;\n",
       "    }\n",
       "</style>\n",
       "<table border=\"1\" class=\"dataframe\">\n",
       "  <thead>\n",
       "    <tr style=\"text-align: right;\">\n",
       "      <th></th>\n",
       "      <th>quantile_ex_1</th>\n",
       "      <th>quantile_ex_2</th>\n",
       "      <th>medal</th>\n",
       "    </tr>\n",
       "  </thead>\n",
       "  <tbody>\n",
       "    <tr>\n",
       "      <th>count</th>\n",
       "      <td>20</td>\n",
       "      <td>20</td>\n",
       "      <td>20</td>\n",
       "    </tr>\n",
       "    <tr>\n",
       "      <th>unique</th>\n",
       "      <td>4</td>\n",
       "      <td>10</td>\n",
       "      <td>5</td>\n",
       "    </tr>\n",
       "    <tr>\n",
       "      <th>top</th>\n",
       "      <td>(70004.359, 89137.708]</td>\n",
       "      <td>(70003.0, 82368.0]</td>\n",
       "      <td>Bronze</td>\n",
       "    </tr>\n",
       "    <tr>\n",
       "      <th>freq</th>\n",
       "      <td>5</td>\n",
       "      <td>2</td>\n",
       "      <td>4</td>\n",
       "    </tr>\n",
       "  </tbody>\n",
       "</table>\n",
       "</div>"
      ],
      "text/plain": [
       "                 quantile_ex_1       quantile_ex_2   medal\n",
       "count                       20                  20      20\n",
       "unique                       4                  10       5\n",
       "top     (70004.359, 89137.708]  (70003.0, 82368.0]  Bronze\n",
       "freq                         5                   2       4"
      ]
     },
     "execution_count": 57,
     "metadata": {},
     "output_type": "execute_result"
    }
   ],
   "source": [
    "df.describe(include='category')"
   ]
  },
  {
   "cell_type": "code",
   "execution_count": 58,
   "id": "58caf89b-6b90-45bb-a636-549ca82bea03",
   "metadata": {},
   "outputs": [
    {
     "data": {
      "text/html": [
       "<div>\n",
       "<style scoped>\n",
       "    .dataframe tbody tr th:only-of-type {\n",
       "        vertical-align: middle;\n",
       "    }\n",
       "\n",
       "    .dataframe tbody tr th {\n",
       "        vertical-align: top;\n",
       "    }\n",
       "\n",
       "    .dataframe thead th {\n",
       "        text-align: right;\n",
       "    }\n",
       "</style>\n",
       "<table border=\"1\" class=\"dataframe\">\n",
       "  <thead>\n",
       "    <tr style=\"text-align: right;\">\n",
       "      <th></th>\n",
       "      <th>account number</th>\n",
       "      <th>ext price</th>\n",
       "    </tr>\n",
       "  </thead>\n",
       "  <tbody>\n",
       "    <tr>\n",
       "      <th>count</th>\n",
       "      <td>20.000000</td>\n",
       "      <td>20.000000</td>\n",
       "    </tr>\n",
       "    <tr>\n",
       "      <th>mean</th>\n",
       "      <td>476998.750000</td>\n",
       "      <td>100939.216000</td>\n",
       "    </tr>\n",
       "    <tr>\n",
       "      <th>std</th>\n",
       "      <td>231499.208970</td>\n",
       "      <td>17675.097485</td>\n",
       "    </tr>\n",
       "    <tr>\n",
       "      <th>min</th>\n",
       "      <td>141962.000000</td>\n",
       "      <td>70004.360000</td>\n",
       "    </tr>\n",
       "    <tr>\n",
       "      <th>0%</th>\n",
       "      <td>141962.000000</td>\n",
       "      <td>70004.360000</td>\n",
       "    </tr>\n",
       "    <tr>\n",
       "      <th>33.3%</th>\n",
       "      <td>332759.333333</td>\n",
       "      <td>91241.493333</td>\n",
       "    </tr>\n",
       "    <tr>\n",
       "      <th>50%</th>\n",
       "      <td>476006.500000</td>\n",
       "      <td>100271.535000</td>\n",
       "    </tr>\n",
       "    <tr>\n",
       "      <th>66.7%</th>\n",
       "      <td>662511.000000</td>\n",
       "      <td>104178.580000</td>\n",
       "    </tr>\n",
       "    <tr>\n",
       "      <th>100%</th>\n",
       "      <td>786968.000000</td>\n",
       "      <td>137351.960000</td>\n",
       "    </tr>\n",
       "    <tr>\n",
       "      <th>max</th>\n",
       "      <td>786968.000000</td>\n",
       "      <td>137351.960000</td>\n",
       "    </tr>\n",
       "  </tbody>\n",
       "</table>\n",
       "</div>"
      ],
      "text/plain": [
       "       account number      ext price\n",
       "count       20.000000      20.000000\n",
       "mean    476998.750000  100939.216000\n",
       "std     231499.208970   17675.097485\n",
       "min     141962.000000   70004.360000\n",
       "0%      141962.000000   70004.360000\n",
       "33.3%   332759.333333   91241.493333\n",
       "50%     476006.500000  100271.535000\n",
       "66.7%   662511.000000  104178.580000\n",
       "100%    786968.000000  137351.960000\n",
       "max     786968.000000  137351.960000"
      ]
     },
     "execution_count": 58,
     "metadata": {},
     "output_type": "execute_result"
    }
   ],
   "source": [
    "df.describe(percentiles=[0, 1/3, 2/3, 1])"
   ]
  },
  {
   "cell_type": "markdown",
   "id": "302461e5-bb32-4b27-a094-b8608a823f51",
   "metadata": {},
   "source": [
    "# `cut`"
   ]
  },
  {
   "cell_type": "markdown",
   "id": "8da2e39d-1a3d-4d31-b17d-1149ab5238e5",
   "metadata": {},
   "source": [
    ">For distributing (unevenly) instances with arbitrary boundaries"
   ]
  },
  {
   "cell_type": "code",
   "execution_count": 59,
   "id": "4845f404-890a-4cb0-b03e-40919f94c995",
   "metadata": {},
   "outputs": [],
   "source": [
    "df = df.drop(columns=['medal', 'quantile_ex_1', 'quantile_ex_2'])"
   ]
  },
  {
   "cell_type": "code",
   "execution_count": 60,
   "id": "fe7c5df5-5a5d-4042-b86f-fd5822f72363",
   "metadata": {},
   "outputs": [
    {
     "data": {
      "text/plain": [
       "0      (69937.012, 86841.26]\n",
       "1      (86841.26, 103678.16]\n",
       "2      (69937.012, 86841.26]\n",
       "3     (120515.06, 137351.96]\n",
       "4      (86841.26, 103678.16]\n",
       "5      (86841.26, 103678.16]\n",
       "6      (69937.012, 86841.26]\n",
       "7     (103678.16, 120515.06]\n",
       "8     (103678.16, 120515.06]\n",
       "9     (120515.06, 137351.96]\n",
       "10     (86841.26, 103678.16]\n",
       "11     (69937.012, 86841.26]\n",
       "12     (86841.26, 103678.16]\n",
       "13     (86841.26, 103678.16]\n",
       "14     (86841.26, 103678.16]\n",
       "15    (120515.06, 137351.96]\n",
       "16     (86841.26, 103678.16]\n",
       "17    (103678.16, 120515.06]\n",
       "18    (103678.16, 120515.06]\n",
       "19     (86841.26, 103678.16]\n",
       "Name: ext price, dtype: category\n",
       "Categories (4, interval[float64, right]): [(69937.012, 86841.26] < (86841.26, 103678.16] < (103678.16, 120515.06] < (120515.06, 137351.96]]"
      ]
     },
     "execution_count": 60,
     "metadata": {},
     "output_type": "execute_result"
    }
   ],
   "source": [
    "pd.cut(df['ext price'], bins=4)"
   ]
  },
  {
   "cell_type": "code",
   "execution_count": 61,
   "id": "4ac1ccb2-590e-4106-9bb2-bdd43ec906fd",
   "metadata": {},
   "outputs": [
    {
     "data": {
      "text/plain": [
       "ext price\n",
       "(86841.26, 103678.16]     9\n",
       "(69937.012, 86841.26]     4\n",
       "(103678.16, 120515.06]    4\n",
       "(120515.06, 137351.96]    3\n",
       "Name: count, dtype: int64"
      ]
     },
     "execution_count": 61,
     "metadata": {},
     "output_type": "execute_result"
    }
   ],
   "source": [
    "pd.cut(df['ext price'], bins=4).value_counts()"
   ]
  },
  {
   "cell_type": "code",
   "execution_count": 67,
   "id": "9de23fdd-c824-4b38-aca1-9f7c624c4071",
   "metadata": {},
   "outputs": [
    {
     "data": {
      "text/plain": [
       "ext price\n",
       "(88000.0, 104000.0]     8\n",
       "(104000.0, 120000.0]    4\n",
       "(72000.0, 88000.0]      4\n",
       "(56000.0, 72000.0]      1\n",
       "(40000.0, 56000.0]      0\n",
       "Name: count, dtype: int64"
      ]
     },
     "execution_count": 67,
     "metadata": {},
     "output_type": "execute_result"
    }
   ],
   "source": [
    "pd.cut(df['ext price'], bins=np.linspace(40000, 120000, 6)).value_counts()"
   ]
  },
  {
   "cell_type": "code",
   "execution_count": 68,
   "id": "c2e54448-a5ab-4a6d-aa6f-ceb6de604634",
   "metadata": {},
   "outputs": [
    {
     "data": {
      "text/plain": [
       "IntervalIndex([      [0, 10000),   [10000, 20000),   [20000, 30000),\n",
       "                 [30000, 40000),   [40000, 50000),   [50000, 60000),\n",
       "                 [60000, 70000),   [70000, 80000),   [80000, 90000),\n",
       "                [90000, 100000), [100000, 110000), [110000, 120000),\n",
       "               [120000, 130000), [130000, 140000), [140000, 150000),\n",
       "               [150000, 160000), [160000, 170000), [170000, 180000),\n",
       "               [180000, 190000), [190000, 200000)],\n",
       "              dtype='interval[int64, left]')"
      ]
     },
     "execution_count": 68,
     "metadata": {},
     "output_type": "execute_result"
    }
   ],
   "source": [
    "pd.interval_range(start=0, freq=10000, end=200000, closed='left')"
   ]
  },
  {
   "cell_type": "markdown",
   "id": "41124537-bb2d-47d1-a438-a031e5a7532a",
   "metadata": {},
   "source": [
    "# Binning shortcut for `value_counts()`"
   ]
  },
  {
   "cell_type": "code",
   "execution_count": 69,
   "id": "ab8848f2-d081-41de-a59d-8add62276880",
   "metadata": {},
   "outputs": [
    {
     "data": {
      "text/plain": [
       "(69937.011, 86841.26]     4\n",
       "(86841.26, 103678.16]     9\n",
       "(103678.16, 120515.06]    4\n",
       "(120515.06, 137351.96]    3\n",
       "Name: count, dtype: int64"
      ]
     },
     "execution_count": 69,
     "metadata": {},
     "output_type": "execute_result"
    }
   ],
   "source": [
    "df['ext price'].value_counts(bins=4, sort=False)"
   ]
  },
  {
   "cell_type": "code",
   "execution_count": null,
   "id": "c83e3ad1-cb22-4793-85cc-f835d62bc538",
   "metadata": {},
   "outputs": [],
   "source": []
  }
 ],
 "metadata": {
  "kernelspec": {
   "display_name": "Python 3 (ipykernel)",
   "language": "python",
   "name": "python3"
  },
  "language_info": {
   "codemirror_mode": {
    "name": "ipython",
    "version": 3
   },
   "file_extension": ".py",
   "mimetype": "text/x-python",
   "name": "python",
   "nbconvert_exporter": "python",
   "pygments_lexer": "ipython3",
   "version": "3.12.7"
  }
 },
 "nbformat": 4,
 "nbformat_minor": 5
}
